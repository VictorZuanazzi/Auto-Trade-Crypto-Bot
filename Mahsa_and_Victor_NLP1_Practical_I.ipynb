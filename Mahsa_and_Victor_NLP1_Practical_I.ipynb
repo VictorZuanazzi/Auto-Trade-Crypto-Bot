{
  "nbformat": 4,
  "nbformat_minor": 0,
  "metadata": {
    "colab": {
      "name": "Mahsa and Victor NLP1 Practical I",
      "version": "0.3.2",
      "provenance": [],
      "collapsed_sections": [],
      "toc_visible": true,
      "include_colab_link": true
    },
    "kernelspec": {
      "name": "python3",
      "display_name": "Python 3"
    }
  },
  "cells": [
    {
      "cell_type": "markdown",
      "metadata": {
        "id": "view-in-github",
        "colab_type": "text"
      },
      "source": [
        "<a href=\"https://colab.research.google.com/github/VictorZuanazzi/Auto-Trade-Crypto-Bot/blob/master/Mahsa_and_Victor_NLP1_Practical_I.ipynb\" target=\"_parent\"><img src=\"https://colab.research.google.com/assets/colab-badge.svg\" alt=\"Open In Colab\"/></a>"
      ]
    },
    {
      "metadata": {
        "id": "lIZrAUx57vsM",
        "colab_type": "text"
      },
      "cell_type": "markdown",
      "source": [
        "Practical 1: Sentiment Detection of Movie Reviews\n",
        "========================================\n",
        "\n"
      ]
    },
    {
      "metadata": {
        "id": "J4kXPMhyngZW",
        "colab_type": "text"
      },
      "cell_type": "markdown",
      "source": [
        "This practical concerns sentiment detection of movie reviews.\n",
        "In [this file](https://gist.githubusercontent.com/bastings/d47423301cca214e3930061a5a75e177/raw/5113687382919e22b1f09ce71a8fecd1687a5760/reviews.json) (80MB) you will find 1000 positive and 1000 negative **movie reviews**.\n",
        "Each review is a **document** and consists of one or more sentences.\n",
        "\n",
        "To prepare yourself for this practical, you should\n",
        "have a look at a few of these texts to understand the difficulties of\n",
        "the task (how might one go about classifying the texts?); you will write\n",
        "code that decides whether a random unseen movie review is positive or\n",
        "negative.\n",
        "\n",
        "Please make sure you have read the following paper:\n",
        "\n",
        ">   Bo Pang, Lillian Lee, and Shivakumar Vaithyanathan\n",
        "(2002). \n",
        "[Thumbs up? Sentiment Classification using Machine Learning\n",
        "Techniques](https://dl.acm.org/citation.cfm?id=1118704). EMNLP.\n",
        "\n",
        "Bo Pang et al. were the \"inventors\" of the movie review sentiment\n",
        "classification task, and the above paper was one of the first papers on\n",
        "the topic. The first version of your sentiment classifier will do\n",
        "something similar to Bo Pang’s system. If you have questions about it,\n",
        "we should resolve them in our first demonstrated practical.\n"
      ]
    },
    {
      "metadata": {
        "id": "cb7errgRASzZ",
        "colab_type": "text"
      },
      "cell_type": "markdown",
      "source": [
        "**Advice**\n",
        "\n",
        "Please read through the entire practical and familiarise\n",
        "yourself with all requirements before you start coding or otherwise\n",
        "solving the tasks. Writing clean and concise code can make the difference\n",
        "between solving the assignment in a matter of hours, and taking days to\n",
        "run all experiments.\n",
        "\n",
        "**Environment**\n",
        "\n",
        "All code should be written in **Python 3**. \n",
        "If you use Colab, check if you have that version with `Runtime -> Change runtime type` in the top menu.\n",
        "\n",
        "> If you want to work in your own computer, then download this notebook through `File -> Download .ipynb`.\n",
        "The easiest way to\n",
        "install Python is through downloading\n",
        "[Anaconda](https://www.anaconda.com/download). \n",
        "After installation, you can start the notebook by typing `jupyter notebook filename.ipynb`.\n",
        "You can also use an IDE\n",
        "such as [PyCharm](https://www.jetbrains.com/pycharm/download/) to make\n",
        "coding and debugging easier. It is good practice to create a [virtual\n",
        "environment](https://docs.python.org/3/tutorial/venv.html) for this\n",
        "project, so that any Python packages don’t interfere with other\n",
        "projects.\n",
        "\n",
        "#### Learning Python 3\n",
        "\n",
        "If you are new to Python 3, you may want to check out a few of these resources:\n",
        "- https://learnxinyminutes.com/docs/python3/\n",
        "- https://www.learnpython.org/\n",
        "- https://docs.python.org/3/tutorial/"
      ]
    },
    {
      "metadata": {
        "id": "bXWyGHwE-ieQ",
        "colab_type": "text"
      },
      "cell_type": "markdown",
      "source": [
        "Loading the Data\n",
        "-------------------------------------------------------------"
      ]
    },
    {
      "metadata": {
        "id": "lm-rakqtlMOT",
        "colab_type": "code",
        "outputId": "bd1ec19e-bec3-4a25-b65d-4250cdb82801",
        "colab": {
          "base_uri": "https://localhost:8080/",
          "height": 415
        }
      },
      "cell_type": "code",
      "source": [
        "# download sentiment lexicon\n",
        "!wget https://gist.githubusercontent.com/bastings/d6f99dcb6c82231b94b013031356ba05/raw/f80a0281eba8621b122012c89c8b5e2200b39fd6/sent_lexicon\n",
        "# download review data\n",
        "!wget https://gist.githubusercontent.com/bastings/d47423301cca214e3930061a5a75e177/raw/5113687382919e22b1f09ce71a8fecd1687a5760/reviews.json"
      ],
      "execution_count": 1,
      "outputs": [
        {
          "output_type": "stream",
          "text": [
            "--2018-11-23 08:14:30--  https://gist.githubusercontent.com/bastings/d6f99dcb6c82231b94b013031356ba05/raw/f80a0281eba8621b122012c89c8b5e2200b39fd6/sent_lexicon\n",
            "Resolving gist.githubusercontent.com (gist.githubusercontent.com)... 151.101.0.133, 151.101.64.133, 151.101.128.133, ...\n",
            "Connecting to gist.githubusercontent.com (gist.githubusercontent.com)|151.101.0.133|:443... connected.\n",
            "HTTP request sent, awaiting response... 200 OK\n",
            "Length: 662577 (647K) [text/plain]\n",
            "Saving to: ‘sent_lexicon.1’\n",
            "\n",
            "\rsent_lexicon.1        0%[                    ]       0  --.-KB/s               \rsent_lexicon.1      100%[===================>] 647.05K  --.-KB/s    in 0.06s   \n",
            "\n",
            "2018-11-23 08:14:30 (9.88 MB/s) - ‘sent_lexicon.1’ saved [662577/662577]\n",
            "\n",
            "--2018-11-23 08:14:31--  https://gist.githubusercontent.com/bastings/d47423301cca214e3930061a5a75e177/raw/5113687382919e22b1f09ce71a8fecd1687a5760/reviews.json\n",
            "Resolving gist.githubusercontent.com (gist.githubusercontent.com)... 151.101.0.133, 151.101.64.133, 151.101.128.133, ...\n",
            "Connecting to gist.githubusercontent.com (gist.githubusercontent.com)|151.101.0.133|:443... connected.\n",
            "HTTP request sent, awaiting response... 200 OK\n",
            "Length: 83503869 (80M) [text/plain]\n",
            "Saving to: ‘reviews.json.1’\n",
            "\n",
            "reviews.json.1      100%[===================>]  79.63M  89.0MB/s    in 0.9s    \n",
            "\n",
            "2018-11-23 08:14:33 (89.0 MB/s) - ‘reviews.json.1’ saved [83503869/83503869]\n",
            "\n"
          ],
          "name": "stdout"
        }
      ]
    },
    {
      "metadata": {
        "id": "hok-BFu9lGoK",
        "colab_type": "code",
        "colab": {}
      },
      "cell_type": "code",
      "source": [
        "import math\n",
        "import os\n",
        "import sys\n",
        "from subprocess import call\n",
        "from nltk import FreqDist\n",
        "from nltk.util import ngrams\n",
        "from nltk.stem.porter import PorterStemmer\n",
        "import sklearn as sk\n",
        "from google.colab import drive\n",
        "import pickle\n",
        "import json\n",
        "from collections import Counter\n",
        "import requests\n",
        "import matplotlib.pyplot as plt\n",
        "import numpy as np\n"
      ],
      "execution_count": 0,
      "outputs": []
    },
    {
      "metadata": {
        "id": "careEKj-mRpl",
        "colab_type": "code",
        "outputId": "c5978865-7339-43a9-bd10-daa846e321af",
        "colab": {
          "base_uri": "https://localhost:8080/",
          "height": 777
        }
      },
      "cell_type": "code",
      "source": [
        "# load reviews into memory\n",
        "# file structure:\n",
        "# [\n",
        "#  {\"cv\": integer, \"sentiment\": str, \"content\": list} \n",
        "#  {\"cv\": integer, \"sentiment\": str, \"content\": list} \n",
        "#   ..\n",
        "# ]\n",
        "# where `content` is a list of sentences, \n",
        "# with a sentence being a list of (token, pos_tag) pairs.\n",
        "\n",
        "# For documentation on POS-tags, see \n",
        "# https://catalog.ldc.upenn.edu/docs/LDC99T42/tagguid1.pdf\n",
        "\n",
        "with open(\"reviews.json\", mode=\"r\", encoding=\"utf-8\") as f:\n",
        "  reviews = json.load(f)\n",
        "  \n",
        "print(len(reviews))\n",
        "\n",
        "def print_sentence_with_pos(s):\n",
        "  print(s)\n",
        "  print(\" \".join(\"%s/%s\" % (token, pos_tag) for token, pos_tag in s))\n",
        "\n",
        "for i, r in enumerate(reviews):\n",
        "  print(r[\"cv\"], r[\"sentiment\"], len(r[\"content\"]))  # cv, sentiment, num sents\n",
        "  print_sentence_with_pos(r[\"content\"][0])\n",
        "  if i == 4: \n",
        "    break\n",
        "    \n",
        "c = Counter()\n",
        "for review in reviews:\n",
        "  for sentence in review[\"content\"]:\n",
        "    for token, pos_tag in sentence:\n",
        "      c[token.lower()] += 1\n",
        "      \n",
        "print(\"#types\", len(c))\n",
        "\n",
        "print(\"Most common tokens:\")\n",
        "for token, count in c.most_common(25):\n",
        "  print(\"%10s : %8d\" % (token, count))\n",
        "  \n"
      ],
      "execution_count": 3,
      "outputs": [
        {
          "output_type": "stream",
          "text": [
            "2000\n",
            "0 NEG 29\n",
            "[['Two', 'CD'], ['teen', 'JJ'], ['couples', 'NNS'], ['go', 'VBP'], ['to', 'TO'], ['a', 'DT'], ['church', 'NN'], ['party', 'NN'], [',', ','], ['drink', 'NN'], ['and', 'CC'], ['then', 'RB'], ['drive', 'NN'], ['.', '.']]\n",
            "Two/CD teen/JJ couples/NNS go/VBP to/TO a/DT church/NN party/NN ,/, drink/NN and/CC then/RB drive/NN ./.\n",
            "1 NEG 11\n",
            "[['Damn', 'JJ'], ['that', 'IN'], ['Y2K', 'CD'], ['bug', 'NN'], ['.', '.']]\n",
            "Damn/JJ that/IN Y2K/CD bug/NN ./.\n",
            "2 NEG 24\n",
            "[['It', 'PRP'], ['is', 'VBZ'], ['movies', 'NNS'], ['like', 'IN'], ['these', 'DT'], ['that', 'WDT'], ['make', 'VBP'], ['a', 'DT'], ['jaded', 'JJ'], ['movie', 'NN'], ['viewer', 'NN'], ['thankful', 'JJ'], ['for', 'IN'], ['the', 'DT'], ['invention', 'NN'], ['of', 'IN'], ['the', 'DT'], ['Timex', 'NNP'], ['IndiGlo', 'NNP'], ['watch', 'NN'], ['.', '.']]\n",
            "It/PRP is/VBZ movies/NNS like/IN these/DT that/WDT make/VBP a/DT jaded/JJ movie/NN viewer/NN thankful/JJ for/IN the/DT invention/NN of/IN the/DT Timex/NNP IndiGlo/NNP watch/NN ./.\n",
            "3 NEG 19\n",
            "[['QUEST', 'NN'], ['FOR', 'IN'], ['CAMELOT', 'NNP'], ['``', '``'], ['Quest', 'NNP'], ['for', 'IN'], ['Camelot', 'NNP'], [\"''\", \"''\"], ['is', 'VBZ'], ['Warner', 'NNP'], ['Bros.', 'NNP'], [\"'\", 'POS'], ['first', 'JJ'], ['feature-length', 'JJ'], [',', ','], ['fully-animated', 'JJ'], ['attempt', 'NN'], ['to', 'TO'], ['steal', 'VB'], ['clout', 'NN'], ['from', 'IN'], ['Disney', 'NNP'], [\"'s\", 'POS'], ['cartoon', 'NN'], ['empire', 'NN'], [',', ','], ['but', 'CC'], ['the', 'DT'], ['mouse', 'NN'], ['has', 'VBZ'], ['no', 'DT'], ['reason', 'NN'], ['to', 'TO'], ['be', 'VB'], ['worried', 'VBN'], ['.', '.']]\n",
            "QUEST/NN FOR/IN CAMELOT/NNP ``/`` Quest/NNP for/IN Camelot/NNP ''/'' is/VBZ Warner/NNP Bros./NNP '/POS first/JJ feature-length/JJ ,/, fully-animated/JJ attempt/NN to/TO steal/VB clout/NN from/IN Disney/NNP 's/POS cartoon/NN empire/NN ,/, but/CC the/DT mouse/NN has/VBZ no/DT reason/NN to/TO be/VB worried/VBN ./.\n",
            "4 NEG 38\n",
            "[['Synopsis', 'NNPS'], [':', ':'], ['A', 'DT'], ['mentally', 'RB'], ['unstable', 'JJ'], ['man', 'NN'], ['undergoing', 'VBG'], ['psychotherapy', 'NN'], ['saves', 'VBZ'], ['a', 'DT'], ['boy', 'NN'], ['from', 'IN'], ['a', 'DT'], ['potentially', 'RB'], ['fatal', 'JJ'], ['accident', 'NN'], ['and', 'CC'], ['then', 'RB'], ['falls', 'VBZ'], ['in', 'IN'], ['love', 'NN'], ['with', 'IN'], ['the', 'DT'], ['boy', 'NN'], [\"'s\", 'POS'], ['mother', 'NN'], [',', ','], ['a', 'DT'], ['fledgling', 'NN'], ['restauranteur', 'NN'], ['.', '.']]\n",
            "Synopsis/NNPS :/: A/DT mentally/RB unstable/JJ man/NN undergoing/VBG psychotherapy/NN saves/VBZ a/DT boy/NN from/IN a/DT potentially/RB fatal/JJ accident/NN and/CC then/RB falls/VBZ in/IN love/NN with/IN the/DT boy/NN 's/POS mother/NN ,/, a/DT fledgling/NN restauranteur/NN ./.\n",
            "#types 47743\n",
            "Most common tokens:\n",
            "         , :    77842\n",
            "       the :    75948\n",
            "         . :    59027\n",
            "         a :    37583\n",
            "       and :    35235\n",
            "        of :    33864\n",
            "        to :    31601\n",
            "        is :    25972\n",
            "        in :    21563\n",
            "        's :    18043\n",
            "        it :    15904\n",
            "      that :    15820\n",
            "     -rrb- :    11768\n",
            "     -lrb- :    11670\n",
            "        as :    11312\n",
            "      with :    10739\n",
            "       for :     9816\n",
            "       his :     9542\n",
            "      this :     9497\n",
            "      film :     9404\n",
            "        '' :     9282\n",
            "        he :     8804\n",
            "        `` :     8801\n",
            "         i :     8619\n",
            "       but :     8537\n"
          ],
          "name": "stdout"
        }
      ]
    },
    {
      "metadata": {
        "id": "E6PWaEoh8B34",
        "colab_type": "text"
      },
      "cell_type": "markdown",
      "source": [
        "Symbolic approach – sentiment lexicon (2pts)\n",
        "---------------------------------------------------------------------\n",
        "\n"
      ]
    },
    {
      "metadata": {
        "id": "JsTSMb6ma4E8",
        "colab_type": "text"
      },
      "cell_type": "markdown",
      "source": [
        "**How** could one automatically classify movie reviews according to their\n",
        "sentiment? \n",
        "\n",
        "If we had access to a **sentiment lexicon**, then there are ways to solve\n",
        "the problem without using Machine Learning. One might simply look up\n",
        "every open-class word in the lexicon, and compute a binary score\n",
        "$S_{binary}$ by counting how many words match either a positive, or a\n",
        "negative word entry in the sentiment lexicon $SLex$.\n",
        "\n",
        "$$S_{binary}(w_1w_2...w_n) = \\sum_{i = 1}^{n}\\text{sgn}(SLex\\big[w_i\\big])$$\n",
        "\n",
        "**Threshold.** In average there are more positive than negative words per review (~7.13 more positive than negative per review) to take this bias into account you should use a threshold of **8** (roughly the bias itself) to make it harder to classify as positive.\n",
        "\n",
        "$$\n",
        "\\text{classify}(S_{binary}(w_1w_2...w_n)) = \\bigg\\{\\begin{array}{ll}\n",
        "        \\text{positive} & \\text{if } S_{binary}(w_1w_2...w_n) > threshold\\\\\n",
        "        \\text{negative} & \\text{else }\n",
        "        \\end{array}\n",
        "$$\n",
        "\n",
        "To implement this approach, you should use the sentiment\n",
        "lexicon in `sent_lexicon`, which was taken from the\n",
        "following work:\n",
        "\n",
        "> Theresa Wilson, Janyce Wiebe, and Paul Hoffmann\n",
        "(2005). [Recognizing Contextual Polarity in Phrase-Level Sentiment\n",
        "Analysis](http://www.aclweb.org/anthology/H/H05/H05-1044.pdf). HLT-EMNLP."
      ]
    },
    {
      "metadata": {
        "id": "tOFnMvbeeZrc",
        "colab_type": "text"
      },
      "cell_type": "markdown",
      "source": [
        "#### (Q: 1.1) Implement this approach and report its classification accuracy. (1 pt)"
      ]
    },
    {
      "metadata": {
        "id": "ED2aTEYutW1-",
        "colab_type": "code",
        "colab": {}
      },
      "cell_type": "code",
      "source": [
        "threshold= 8\n",
        "switch = 'binary'   #takes the value 'weighted' or 'binary'\n",
        "        \n",
        "def classify(S,threshold):\n",
        "  '''classify 1 if S > treshold and 0 otherwise'''\n",
        "  # classifies one review as positive (1) or negative (0)\n",
        "  if S > threshold:\n",
        "    return 1 #positive\n",
        "  else:\n",
        "    return 0 #negative\n",
        "  \n",
        "def calculate_word_score(switch,token_value):\n",
        "  # switch function: calculates the score of each word with either \n",
        "  # the weighted or binary formula\n",
        "  if switch=='weighted':\n",
        "    return token_value[0]*token_value[1]\n",
        "  if switch=='binary':\n",
        "    return token_value[0]\n",
        "\n",
        "def load_lexicon():\n",
        "  # loads lexicon in the memory\n",
        "  lexicon = []\n",
        "  with open(\"sent_lexicon\", mode=\"r+\", encoding=\"utf-8\") as f:\n",
        "    for line in f:\n",
        "      lexicon.append(line.split(\" \"))\n",
        "  return lexicon\n",
        "\n",
        "# creates a dictionary of sentiment of the words\n",
        "def gimme_word_sentiment(lexicon):\n",
        "  # Returns a dictionary in the format:\n",
        "  #    word: [sentiment, magnitude]\n",
        "  #    sentiment can take 1 or -1\n",
        "  #    magnitude can take 1 or 2\n",
        "  word_dict  = {}     # dictionary of the format \"word\": [sentiment, magnitude]\n",
        "  weight_strong = 2   \n",
        "  weight_weak = 1\n",
        "  negative_sentiment = -1\n",
        "  positive_sentiment = 1\n",
        "  both_neutral = 0\n",
        "  for i in range(len(lexicon)):\n",
        "    token = lexicon[i][2][len(\"word1=\"):]\n",
        "    polarity_text = lexicon[i][5]\n",
        "    if (polarity_text.find(\"negative\") != -1):\n",
        "      word_dict[token]= [negative_sentiment]\n",
        "    elif (polarity_text.find(\"positive\") != -1):\n",
        "      word_dict[token]= [positive_sentiment]\n",
        "    else: \n",
        "      word_dict[token] = [both_neutral]\n",
        "    magnitude_text = lexicon[i][0]\n",
        "    if (magnitude_text.find(\"strongsubj\") != -1):\n",
        "      word_dict[token].append(weight_strong)\n",
        "    else:\n",
        "      word_dict[token].append(weight_weak)\n",
        "    #print(token, \": \", word_dict[token], \"lexicon: \", lexicon[i])\n",
        "  return word_dict\n",
        "\n",
        "def review_score_calculator(reviews, word_dict, switch):\n",
        "  S = np.zeros(len(reviews))\n",
        "  c=0\n",
        "  for review in reviews:\n",
        "    count_token = 0\n",
        "    for sentence in review[\"content\"]:\n",
        "      for token, pos_tag in sentence:\n",
        "        token = token.lower()\n",
        "        token_value = word_dict.get(token)\n",
        "        if token_value is not None:\n",
        "          S[c] = S[c] + calculate_word_score(switch, token_value)\n",
        "    c += 1\n",
        "  return S\n",
        "\n",
        "lexicon = load_lexicon()\n",
        "word_dict = gimme_word_sentiment(lexicon)\n",
        "\n",
        "# loads the reviews in the memory\n",
        "with open(\"reviews.json\", mode=\"r\", encoding=\"utf-8\") as h:\n",
        "  reviews = json.load(h)\n",
        "\n",
        "S_binary = review_score_calculator(reviews,word_dict,switch)\n",
        "\n",
        "#classifying the reviews\n",
        "classified_reviews=np.zeros(len(reviews))\n",
        "for i in range(len(reviews)):\n",
        "  classified_reviews[i]=classify(S_binary[i],threshold)\n",
        "             "
      ],
      "execution_count": 0,
      "outputs": []
    },
    {
      "metadata": {
        "id": "iy528EUTphz5",
        "colab_type": "code",
        "outputId": "ef69c2a7-647c-4481-8b63-a0af0d34c0cc",
        "colab": {
          "base_uri": "https://localhost:8080/",
          "height": 34
        }
      },
      "cell_type": "code",
      "source": [
        "debug = False\n",
        "\n",
        "def evaluate_model(reviews, classified_reviews):\n",
        "  token_results = [] # 1 -> correctly evaluated, 0 -> falsely evaluated\n",
        "  review_sentiment = []\n",
        "  for i in range(len(reviews)):\n",
        "    review_sentiment.append(reviews[i][\"sentiment\"])\n",
        "    if (reviews[i][\"sentiment\"] == \"NEG\" and classified_reviews[i] == 0):\n",
        "      token_results.append(1)\n",
        "    elif (reviews[i][\"sentiment\"] == \"POS\" and classified_reviews[i] == 1):\n",
        "      token_results.append(1)\n",
        "    else:\n",
        "      token_results.append(0)\n",
        "  return token_results , review_sentiment\n",
        "\n",
        "token_results, review_sentiment = evaluate_model(reviews, classified_reviews)\n",
        "    \n",
        "if debug == True:\n",
        "  print(S_binary)\n",
        "  print(token_results)\n",
        "  print(review_sentiment)\n",
        "\n",
        "token_accuracy = sum(token_results)/len(reviews)\n",
        "print(\"Accuracy: %0.2f\" % token_accuracy)"
      ],
      "execution_count": 5,
      "outputs": [
        {
          "output_type": "stream",
          "text": [
            "Accuracy: 0.68\n"
          ],
          "name": "stdout"
        }
      ]
    },
    {
      "metadata": {
        "id": "Twox0s_3eS0V",
        "colab_type": "text"
      },
      "cell_type": "markdown",
      "source": [
        "threshold= 8threshold= 8If the sentiment lexicon also has information about the **magnitude** of\n",
        "sentiment (e.g., *“excellent\"* would have higher magnitude than\n",
        "*“good\"*), we could take a more fine-grained approach by adding up all\n",
        "sentiment scores, and deciding the polarity of the movie review using\n",
        "the sign of the weighted score $S_{weighted}$.\n",
        "\n",
        "$$S_{weighted}(w_1w_2...w_n) = \\sum_{i = 1}^{n}SLex\\big[w_i\\big]$$\n",
        "\n",
        "\n",
        "Their lexicon also records two possible magnitudes of sentiment (*weak*\n",
        "and *strong*), so you can implement both the binary and the weighted\n",
        "solutions (please use a switch in your program). For the weighted\n",
        "solution, you can choose the weights intuitively *once* before running\n",
        "the experiment.\n",
        "\n",
        "#### (Q: 1.2) Now incorporate magnitude information and report the classification accuracy. Don't forget to use the threshold. (1 pt)"
      ]
    },
    {
      "metadata": {
        "id": "A4ND3wnxzKWA",
        "colab_type": "text"
      },
      "cell_type": "markdown",
      "source": [
        "**Design choice:** Strong words have a weight of 2, and weak words have a weight of 1. This weight is multiplied by -1 if the word has a negative sentiment. As instructed by the TA."
      ]
    },
    {
      "metadata": {
        "id": "qG3hUDnPtkhS",
        "colab_type": "code",
        "colab": {}
      },
      "cell_type": "code",
      "source": [
        "switch = 'weighted' #takes the value 'weighted' or 'binary'\n",
        "\n",
        "word_dict = gimme_word_sentiment(lexicon)\n",
        "  \n",
        "S_weighted = review_score_calculator(reviews, word_dict, switch)   \n",
        "  \n",
        "#classifying the reviews\n",
        "classified_reviews=np.zeros(len(reviews))\n",
        "for i in range(len(reviews)):\n",
        "  classified_reviews[i] = classify(S_weighted[i], threshold)"
      ],
      "execution_count": 0,
      "outputs": []
    },
    {
      "metadata": {
        "id": "9vVk7CvDpyka",
        "colab_type": "code",
        "outputId": "ddeddf67-5af7-44de-d418-fcb96e897b47",
        "colab": {
          "base_uri": "https://localhost:8080/",
          "height": 34
        }
      },
      "cell_type": "code",
      "source": [
        "debug = False #for debuging purposes!\n",
        "\n",
        "def evaluate_model(reviews, classified_reviews):\n",
        "  magnitude_results = [] # 1 -> correctly evaluated, 0 -> falsely evaluated\n",
        "  review_sentiment = []\n",
        "  for i in range(len(reviews)):\n",
        "    review_sentiment.append(reviews[i][\"sentiment\"])\n",
        "    if (reviews[i][\"sentiment\"] == \"NEG\" and classified_reviews[i] == 0):\n",
        "      magnitude_results.append(1)\n",
        "    elif (reviews[i][\"sentiment\"] == \"POS\" and classified_reviews[i] == 1):\n",
        "      magnitude_results.append(1)\n",
        "    else:\n",
        "      magnitude_results.append(0)\n",
        "    \n",
        "  return magnitude_results, review_sentiment\n",
        "\n",
        "magnitude_results, review_sentiment = evaluate_model(reviews, \n",
        "                                                     classified_reviews)\n",
        "    \n",
        "if debug == True:\n",
        "  print(S_weighted)\n",
        "  count = 0\n",
        "  for i in range(len(magnitude_results)):\n",
        "    if (magnitude_results[i] != token_results[i]):\n",
        "      count += 1\n",
        "  print(count)\n",
        "  print(magnitude_results)\n",
        "  print(token_results)\n",
        "  print(review_sentiment)\n",
        "  \n",
        "magnitude_accuracy = sum(magnitude_results)/len(reviews) # ..\n",
        "print(\"Accuracy: %0.2f\" % magnitude_accuracy)"
      ],
      "execution_count": 7,
      "outputs": [
        {
          "output_type": "stream",
          "text": [
            "Accuracy: 0.69\n"
          ],
          "name": "stdout"
        }
      ]
    },
    {
      "metadata": {
        "id": "u9ENYdHs9LDL",
        "colab_type": "text"
      },
      "cell_type": "markdown",
      "source": [
        "َIt can be seen that adding weights has only improved the results by a very small amount. It should be mentioned that tuning the weights and choosing the optimal combination may result in a higher accuracy.  "
      ]
    },
    {
      "metadata": {
        "id": "iYuDEWy1KwYU",
        "colab_type": "text"
      },
      "cell_type": "markdown",
      "source": [
        "Just for fun:\n",
        "\n",
        "Negative words change the meaning of a positive word to negative. And the other way around. However the methods above do not take this simple grammar rule in consideration. For instance: \\\\\n",
        "\"The movie was not great\"  \\\\\n",
        "\"I did not enjoy the performance of Jasmin\" \\\\\n",
        "\"I was not amused by the plot\" \\\\\n",
        "All the above would be classified as positive reviews by both previous methods, but they are clearly negative reviews. Our hypotesis is: \\\\\n",
        "Can we have a better classifier if we multiply the sentiment of a word by -1 when it is preceeded of a negative word?\\\\\n",
        "Negative words: (the list was taken from this not-academic website: https://www.grammarly.com/blog/negatives/)\n",
        "\n",
        "*   No\n",
        "*   Not\n",
        "*   None\n",
        "*   Nobody\n",
        "*   Nothing\n",
        "*   Neither\n",
        "*   Nowhere\n",
        "*   Never\n",
        "*   Hardly\n",
        "*   Scarcely\n",
        "*   Barely\n",
        "*   Doesn’t\n",
        "*   Isn’t\n",
        "*   Wasn’t\n",
        "*   Shouldn’t\n",
        "*   Wouldn’t\n",
        "*   Couldn’t\n",
        "*   Won’t\n",
        "*   Can’t\n",
        "*   Don’t\n",
        "*   Didn't (not included in the original list, but added by us.)\n"
      ]
    },
    {
      "metadata": {
        "id": "B4SWs_cZKvzd",
        "colab_type": "code",
        "colab": {}
      },
      "cell_type": "code",
      "source": [
        "threshold= 8\n",
        "switch='weighted'   #takes the value 'weighted' or 'binary'\n",
        "        \n",
        "def classify(S,threshold):\n",
        "  # classifies one review as positive (1) or negative (0)\n",
        "  if S > threshold:\n",
        "    return 1 #positive\n",
        "  else:\n",
        "    return 0 #negative\n",
        "  \n",
        "def calculate_word_score(switch,token_value):\n",
        "  # switch function: calculates the score of each word with either \n",
        "  # the weighted or binary formula\n",
        "  if switch=='weighted':\n",
        "    return token_value[0]*token_value[1]\n",
        "  if switch=='binary':\n",
        "    return token_value[0]\n",
        "\n",
        "def load_lexicon():\n",
        "  # loads lexicon in the memory\n",
        "  lexicon = []\n",
        "  with open(\"sent_lexicon\", mode=\"r+\", encoding=\"utf-8\") as f:\n",
        "    for line in f:\n",
        "      lexicon.append(line.split(\" \"))\n",
        "  return lexicon\n",
        "\n",
        "# creates a dictionary of sentiment of the words\n",
        "def gimme_word_sentiment(lexicon):\n",
        "  # Returns a dictionary in the format:\n",
        "  #    word: [sentiment, magnitude]\n",
        "  #    sentiment can take 1 or -1\n",
        "  #    magnitude can take 1 or 2\n",
        "  word_dict  = {}     # dictionary of the format \"word\": [sentiment, magnitude]\n",
        "  weight_strong = 2   \n",
        "  weight_weak = 1\n",
        "  negative_sentiment = -1\n",
        "  positive_sentiment = 1\n",
        "  both_neutral = 0\n",
        "  for i in range(len(lexicon)):\n",
        "    token = lexicon[i][2][len(\"word1=\"):]\n",
        "    polarity_text = lexicon[i][5]\n",
        "    if (polarity_text.find(\"negative\") != -1):\n",
        "      word_dict[token]= [negative_sentiment]\n",
        "    elif (polarity_text.find(\"positive\") != -1):\n",
        "      word_dict[token]= [positive_sentiment]\n",
        "    else: \n",
        "      word_dict[token] = [both_neutral]\n",
        "    magnitude_text = lexicon[i][0]\n",
        "    if (magnitude_text.find(\"strongsubj\") != -1):\n",
        "      word_dict[token].append(weight_strong)\n",
        "    else:\n",
        "      word_dict[token].append(weight_weak)\n",
        "    #print(token, \": \", word_dict[token], \"lexicon: \", lexicon[i])\n",
        "  return word_dict\n",
        "\n",
        "def check_negative(maybe_negative):\n",
        "  negative_words = [\"No\", \"Not\", \"None\", \"Nobody\", \"Nothing\", \"Neither\", \n",
        "                    \"Nowhere\", \"Never\", \"Hardly\", \"Scarcely\", \"Barely\", \n",
        "                    \"Doesn’t\", \"Isn’t\", \"Wasn’t\", \"Shouldn’t\", \"Wouldn’t\", \n",
        "                    \"Couldn’t\", \"Won’t\", \"Can’t\",\"Don’t\", \"Didn't\"]\n",
        "  negative_words = [negative_words[i].lower() for i in range (len(negative_words))]\n",
        "  if (maybe_negative in negative_words):\n",
        "    return -1\n",
        "  else:\n",
        "    return 1\n",
        "\n",
        "def review_score_calculator(reviews, word_dict, switch):\n",
        "  S = np.zeros(len(reviews))\n",
        "  c=0\n",
        "  for review in reviews:\n",
        "    count_token = 0\n",
        "    for sentence in review[\"content\"]:\n",
        "      for i in range(len(sentence)):\n",
        "        token, pos_tag = sentence[i]\n",
        "        token = token.lower()\n",
        "        token_value = word_dict.get(token)\n",
        "        if token_value is not None:\n",
        "          if i > 0:\n",
        "            negation = check_negative(sentence[i-1][0].lower())  \n",
        "          S[c] = S[c] + negation*calculate_word_score(switch, token_value)\n",
        "    c += 1\n",
        "  return S\n",
        "\n",
        "lexicon = load_lexicon()\n",
        "word_dict = gimme_word_sentiment(lexicon)\n",
        "\n",
        "# loads the reviews in the memory\n",
        "with open(\"reviews.json\", mode=\"r\", encoding=\"utf-8\") as h:\n",
        "  reviews = json.load(h)\n",
        "\n",
        "S_binary=review_score_calculator(reviews,word_dict,switch)\n",
        "\n",
        "#classifying the reviews\n",
        "classified_reviews_n=np.zeros(len(reviews))\n",
        "for i in range(len(reviews)):\n",
        "  classified_reviews_n[i]=classify(S_binary[i],threshold)\n"
      ],
      "execution_count": 0,
      "outputs": []
    },
    {
      "metadata": {
        "id": "XWkBWZhuQvz0",
        "colab_type": "code",
        "outputId": "815fbfd1-1d6c-4aa6-e6d8-db4afa7a3630",
        "colab": {
          "base_uri": "https://localhost:8080/",
          "height": 34
        }
      },
      "cell_type": "code",
      "source": [
        "debug = False\n",
        "\n",
        "def evaluate_model(reviews, classified_reviews):\n",
        "  token_results = [] # 1 -> correctly evaluated, 0 -> falsely evaluated\n",
        "  review_sentiment = []\n",
        "  for i in range(len(reviews)):\n",
        "    review_sentiment.append(reviews[i][\"sentiment\"])\n",
        "    if (reviews[i][\"sentiment\"] == \"NEG\" and classified_reviews_n[i] == 0):\n",
        "      token_results.append(1)\n",
        "    elif (reviews[i][\"sentiment\"] == \"POS\" and classified_reviews_n[i] == 1):\n",
        "      token_results.append(1)\n",
        "    else:\n",
        "      token_results.append(0)\n",
        "  return token_results , review_sentiment\n",
        "\n",
        "token_results, review_sentiment = evaluate_model(reviews, classified_reviews_n)\n",
        "    \n",
        "if debug == True:\n",
        "  print(S_binary)\n",
        "  print(token_results)\n",
        "  print(review_sentiment)\n",
        "\n",
        "token_accuracy = sum(token_results)/len(reviews)\n",
        "print(\"Accuracy: %0.2f\" % token_accuracy)"
      ],
      "execution_count": 9,
      "outputs": [
        {
          "output_type": "stream",
          "text": [
            "Accuracy: 0.69\n"
          ],
          "name": "stdout"
        }
      ]
    },
    {
      "metadata": {
        "id": "EwlWLvhRR0ht",
        "colab_type": "text"
      },
      "cell_type": "markdown",
      "source": [
        "To our surprise, taking in consideration the negatives do not impact the quality of the classifier! This approach my not be not enough to capture the influence of negative words in a sentence, however we conclude that our simple proposed method is not sufficient to make any improvements.\n"
      ]
    },
    {
      "metadata": {
        "id": "h9SHoGPfsAHV",
        "colab_type": "text"
      },
      "cell_type": "markdown",
      "source": [
        "#### Optional: make a barplot of the two results."
      ]
    },
    {
      "metadata": {
        "id": "8LgBcYcXsEk3",
        "colab_type": "code",
        "outputId": "ec0a4885-23f6-44e7-b9fa-99ef6dda5725",
        "colab": {
          "base_uri": "https://localhost:8080/",
          "height": 376
        }
      },
      "cell_type": "code",
      "source": [
        "\n",
        "method = ('Binary', 'Weighted')\n",
        "y_pos = np.arange(len(method))\n",
        "performance = [token_accuracy, magnitude_accuracy]\n",
        " \n",
        "plt.bar(y_pos, performance, align='center', alpha=0.5)\n",
        "plt.xticks(y_pos, method)\n",
        "plt.ylabel('Accuracy')\n",
        "plt.xlabel('Method')\n",
        "plt.title('Sentiment analysis by Binary and Weighted methods')\n",
        " \n",
        "plt.show()\n"
      ],
      "execution_count": 10,
      "outputs": [
        {
          "output_type": "display_data",
          "data": {
            "image/png": "[encoded data removed]",
            "text/plain": [
              "<matplotlib.figure.Figure at 0x7f52167f3a90>"
            ]
          },
          "metadata": {
            "tags": []
          }
        }
      ]
    },
    {
      "metadata": {
        "id": "6MFrz8Jink0D",
        "colab_type": "text"
      },
      "cell_type": "markdown",
      "source": [
        "Answering questions in statistically significant ways (1pt)\n",
        "-------------------------------------------------------------"
      ]
    },
    {
      "metadata": {
        "id": "kxkxrldT9Ymc",
        "colab_type": "text"
      },
      "cell_type": "markdown",
      "source": [
        "Does using the magnitude improve the results? Oftentimes, answering questions like this about the performance of\n",
        "different signals and/or algorithms by simply looking at the output\n",
        "numbers is not enough. When dealing with natural language or human\n",
        "ratings, it’s safe to assume that there are infinitely many possible\n",
        "instances that could be used for training and testing, of which the ones\n",
        "we actually train and test on are a tiny sample. Thus, it is possible\n",
        "that observed differences in the reported performance are really just\n",
        "noise. \n",
        "\n",
        "There exist statistical methods which can be used to check for\n",
        "consistency (*statistical significance*) in the results, and one of the\n",
        "simplest such tests is the **sign test**. \n",
        "\n",
        "The sign test is based on the binomial distribution. Count all cases when System 1 is better than System 2, when System 2 is better than System 1, and when they are the same. Call these numbers $Plus$, $Minus$ and $Null$ respectively. \n",
        "\n",
        "The sign test returns the probability that the null hypothesis is true. \n",
        "\n",
        "This probability is called the $p$-value and it can be calculated for the two-sided sign test using the following formula (we multiply by two because this is a two-sided sign test and tests for the significance of differences in either direction):\n",
        "\n",
        "$$2 \\, \\sum\\limits_{i=0}^{k} \\binom{N}{i} \\, q^i \\, (1-q)^{N-i}$$\n",
        "\n",
        "where $$N = 2 \\Big\\lceil \\frac{Null}{2}\\Big\\rceil + Plus + Minus$$ is the total\n",
        "number of cases, and\n",
        "$$k = \\Big\\lceil \\frac{Null}{2}\\Big\\rceil + \\min\\{Plus,Minus\\}$$ is the number of\n",
        "cases with the less common sign. \n",
        "\n",
        "In this experiment, $q = 0.5$. Here, we\n",
        "treat ties by adding half a point to either side, rounding up to the\n",
        "nearest integer if necessary. \n",
        "\n",
        "\n",
        "#### (Q 2.1): Implement the sign test. Is the difference between the two symbolic systems significant? What is the p-value? (1 pt)\n",
        "\n",
        "You should use the `comb` function from `scipy` and the `decimal` package for the stable adding of numbers in the final summation.\n",
        "\n",
        "You can quickly verify the correctness of\n",
        "your sign test code using a [free online\n",
        "tool](https://www.graphpad.com/quickcalcs/binomial1.cfm)."
      ]
    },
    {
      "metadata": {
        "id": "de5l4oPkE-BS",
        "colab_type": "code",
        "outputId": "b9e83f3a-20a0-42fb-acf0-b9dad085752d",
        "colab": {
          "base_uri": "https://localhost:8080/",
          "height": 51
        }
      },
      "cell_type": "code",
      "source": [
        "from decimal import *\n",
        "import scipy\n",
        "\n",
        "\n",
        "\n",
        "def sign_test(results_1, results_2):\n",
        "  \"\"\"test for significance\n",
        "  results_1 is a list of classification results (+ for correct, - incorrect)\n",
        "  results_2 is a list of classification results (+ for correct, - incorrect)\n",
        "  \"\"\"\n",
        "  ties, plus, minus = 0, 0, 0\n",
        "  q=0.5\n",
        "  \n",
        "  # \"-\" carries the error\n",
        "  for i in range(0, len(results_1)):\n",
        "    if results_1[i] == results_2[i]:\n",
        "      ties += 1\n",
        "    elif results_1[i] == 0: \n",
        "      plus += 1\n",
        "    elif results_2[i] == 0: \n",
        "      minus += 1\n",
        "\n",
        "  n = 2*math.ceil(ties/2)+plus+minus\n",
        "  k = math.ceil(ties/2)+min(plus,minus)\n",
        "\n",
        "  summation = Decimal(0.0)\n",
        "  for i in range(0,int(k)+1):\n",
        "      summation += Decimal(scipy.special.comb(n,i,exact=True))\n",
        "  \n",
        "  # use two-tailed version of test\n",
        "  summation *= 2\n",
        "  summation *= (Decimal(q)**Decimal(n))\n",
        "  \n",
        "  print(\"the difference is\", \n",
        "        \"not significant\" if summation >= 0.05 else \"significant\")\n",
        "  \n",
        "  return summation\n",
        "\n",
        "p_value = sign_test(token_results, magnitude_results)\n",
        "print(\"p_value =\", p_value)"
      ],
      "execution_count": 11,
      "outputs": [
        {
          "output_type": "stream",
          "text": [
            "the difference is not significant\n",
            "p_value = 0.8756244234337031344389177957\n"
          ],
          "name": "stdout"
        }
      ]
    },
    {
      "metadata": {
        "id": "uhU_tk-BOaXb",
        "colab_type": "text"
      },
      "cell_type": "markdown",
      "source": [
        "## Using the Sign test\n",
        "\n",
        "**From now on, report all differences between systems using the\n",
        "sign test.** You can think about a change that you apply to one system, as a\n",
        " new system.\n",
        "    \n",
        "You should report statistical test\n",
        "results in an appropriate form – if there are several different methods\n",
        "(i.e., systems) to compare, tests can only be applied to pairs of them\n",
        "at a time. This creates a triangular matrix of test results in the\n",
        "general case. When reporting these pair-wise differences, you should\n",
        "summarise trends to avoid redundancy.\n"
      ]
    },
    {
      "metadata": {
        "id": "LibV4nR89BXb",
        "colab_type": "text"
      },
      "cell_type": "markdown",
      "source": [
        "Naive Bayes (8pt + 1pt bonus)\n",
        "=========="
      ]
    },
    {
      "metadata": {
        "id": "fnF9adQnuwia",
        "colab_type": "text"
      },
      "cell_type": "markdown",
      "source": [
        "\n",
        "Your second task is to program a simple Machine Learning approach that operates\n",
        "on a simple Bag-of-Words (BoW) representation of the text data, as\n",
        "described in Pang et al. (2002). In this approach, the only features we\n",
        "will consider are the words in the text themselves, without bringing in\n",
        "external sources of information. The BoW model is a popular way of\n",
        "representing text information as vectors (or points in space), making it\n",
        "easy to apply classical Machine Learning algorithms on NLP tasks.\n",
        "However, the BoW representation is also very crude, since it discards\n",
        "all information related to word order and grammatical structure in the\n",
        "original text.\n",
        "\n",
        "## Writing your own classifier\n",
        "\n",
        "Write your own code to implement the Naive Bayes (NB) classifier. As\n",
        "a reminder, the Naive Bayes classifier works according to the following\n",
        "equation:\n",
        "$$\\hat{c} = \\operatorname*{arg\\,max}_{c \\in C} P(c|\\bar{f}) = \\operatorname*{arg\\,max}_{c \\in C} P(c)\\prod^n_{i=1} P(f_i|c)$$\n",
        "where $C = \\{ \\text{POS}, \\text{NEG} \\}$ is the set of possible classes,\n",
        "$\\hat{c} \\in C$ is the most probable class, and $\\bar{f}$ is the feature\n",
        "vector. Remember that we use the log of these probabilities when making\n",
        "a prediction:\n",
        "$$\\hat{c} = \\operatorname*{arg\\,max}_{c \\in C} \\Big\\{\\log P(c) + \\sum^n_{i=1} \\log P(f_i|c)\\Big\\}$$\n",
        "\n",
        "You can find more details about Naive Bayes in [Jurafsky &\n",
        "Martin](https://web.stanford.edu/~jurafsky/slp3/). You can also look at\n",
        "this helpful\n",
        "[pseudo-code](https://nlp.stanford.edu/IR-book/html/htmledition/naive-bayes-text-classification-1.html).\n",
        "\n",
        "*Note: this section and the next aim to put you a position to replicate\n",
        "    Pang et al., Naive Bayes results. However, the numerical results\n",
        "    will differ from theirs, as they used different data.*\n",
        "\n",
        "**You must write the Naive Bayes training and prediction code from\n",
        "scratch.** You will not be given credit for using off-the-shelf Machine\n",
        "Learning libraries.\n",
        "\n",
        "The data contains the text of the reviews, where each document consists\n",
        "of the sentences in the review, the sentiment of the review and an index\n",
        "(cv) that you will later use for cross-validation. You will find the\n",
        "text has already been tokenised and POS-tagged for you. Your algorithm\n",
        "should read in the text, **lowercase it**, and store the words and their\n",
        "frequencies in an appropriate data structure that allows for easy\n",
        "computation of the probabilities used in the Naive Bayes algorithm, and\n",
        "then make predictions for new instances."
      ]
    },
    {
      "metadata": {
        "id": "gsZRhaI3WvzC",
        "colab_type": "text"
      },
      "cell_type": "markdown",
      "source": [
        "#### (Q3.1) Train your classifier on (positive and negative) reviews with cv-value 000-899, and test it on the remaining reviews cv900–cv999.  Report results using simple classification accuracy as your evaluation metric. Your  features are the word vocabulary. The value of a feature is the count of that feature (word) in the document. (2pts)\n"
      ]
    },
    {
      "metadata": {
        "id": "KQBAygDx_tad",
        "colab_type": "text"
      },
      "cell_type": "markdown",
      "source": [
        "**DESIGN CHOICE**: There are some words that occur in texts related to one class and not the other. These words are added to the vocabulary and will hava a count of zero for the class they don't appear in. As a result, they will have a zero probability which would lead to a $-\\infty$ log probability. in order to remedy this, we replace each zero probability with a number greater than one. Here we are using $e$. Since the other probabilities will be less than one, and therefore have a negative $log$, the only positive log probabilities will be the ones that had a zero count. This makes them easy to detect. Later, in the testing phase, the log probabilities are only added in the calculation if they are negative."
      ]
    },
    {
      "metadata": {
        "id": "G7zaJYGFvIJ3",
        "colab_type": "code",
        "outputId": "5c3ae5dc-1ee7-4572-d942-4c2d80a79c3d",
        "colab": {
          "base_uri": "https://localhost:8080/",
          "height": 34
        }
      },
      "cell_type": "code",
      "source": [
        "# Implementation of Naive Bayes Classifier\n",
        "\n",
        "\n",
        "t_size = int(.9*len(reviews)) #training size\n",
        "negative_size = int(t_size/2)\n",
        "train_set_i = [] # stores indexes of the training set\n",
        "for i in range(0, negative_size): # indexes of the negative reviews\n",
        "  train_set_i.append(i)\n",
        "for i in range(int(len(reviews)/2), len(reviews) - 100): # indexes of the positive reviews\n",
        "  train_set_i.append(i)\n",
        "\n",
        "\n",
        "def init_dict(reviews):\n",
        "  w_dict = {} #count the number of times each word appears in each class \n",
        "  for r in range(len(reviews)):\n",
        "    # loops through all reviews and add the words to the dict word_frequency.\n",
        "    for sentence in reviews[r][\"content\"]: \n",
        "      for word, pos_tag in sentence:\n",
        "        word = word.lower()\n",
        "        w_dict[word] = [0, 0]  # [NEGATIVE, POSITIVE]\n",
        "  return w_dict\n",
        "        \n",
        "def count(reviews, index):\n",
        "  ''' counts the presence in the set of pos and neg reviews\n",
        "  returns:\n",
        "    word_frequency: a dictionary, consisting of the number of times EACH word \n",
        "    happened in each class\n",
        "    vocab _frequency: a vector, consisting of the totall times ALL the words \n",
        "    were used in each class\n",
        "  '''\n",
        "  \n",
        "  word_frequency = init_dict(reviews)\n",
        "  review_class = 0\n",
        "  for r in index:\n",
        "    if (reviews[r][\"sentiment\"] == 'NEG'):\n",
        "      review_class = 0\n",
        "    else:\n",
        "      review_class = 1\n",
        "    for sentence in reviews[r][\"content\"]:\n",
        "      for word, pos_tag in sentence:\n",
        "        word = word.lower()\n",
        "        word_frequency[word][review_class] += 1\n",
        "\n",
        "  vocab_frequency = [0, 0] # stores the total times all the words used in each class\n",
        "  vocab_frequency = np.sum(list(word_frequency.values()), axis=0)\n",
        "      \n",
        "  return vocab_frequency, word_frequency\n",
        "\n",
        "def log_probabilities(prob_class, word_frequency, prob_word_given_class, w_dic):\n",
        "  # spaceship to the log-space:\n",
        "  ln_p_class = [np.log(prob_class[0]), np.log(prob_class[1])] \n",
        "  ln_p_word_g_class = w_dic\n",
        "  for word in word_frequency:\n",
        "    # work around words that do not happen in one of the classes.\n",
        "    # We avoind taking the log of zero by replacing it by a number higher than 1,\n",
        "    # we use the natural constant e such that ln(e) = 1 > ln (0<x<1) < 0\n",
        "    # This approach requires the classifier to filter out all log probabiliter \n",
        "    # higher than zero.\n",
        "    if (prob_word_given_class[word][0] <= 0):\n",
        "      pwgc_n = np.e\n",
        "    else:\n",
        "      pwgc_n = prob_word_given_class[word][0]\n",
        "    if (prob_word_given_class[word][1] <= 0):\n",
        "      pwgc_p = np.e\n",
        "    else:\n",
        "      # In the case of the word being present in that class, it just takes the \n",
        "      # natural logarithm as it is suposed to do.\n",
        "      pwgc_p = prob_word_given_class[word][1]\n",
        "    ln_p_word_g_class[word] = [np.log(pwgc_n),\n",
        "                               np.log(pwgc_p)]\n",
        "  return ln_p_class, ln_p_word_g_class\n",
        "\n",
        "def class_probability(index, negative_size):\n",
        "  # returns the probability of each class in the training set\n",
        "  prob_class  = [negative_size/len(index), 1-negative_size/len(index)]\n",
        "  return prob_class\n",
        "\n",
        "def word_probability(w_dic, vocab_frequency, word_frequency):\n",
        "  # returns the probability of each word given the class, for each class\n",
        "  prob_word_given_class = w_dic\n",
        "  for word in word_frequency:\n",
        "    for i in range (2):\n",
        "      prob_word_given_class[word][i] = word_frequency[word][i]/vocab_frequency[i]\n",
        "      \n",
        "  return prob_word_given_class\n",
        "\n",
        "def training(index, reviews, negative_size, vocab_frequency, word_frequency):\n",
        "  # trains the NB_classifier\n",
        "  w_dic=init_dict(reviews)\n",
        "  prob_word_given_class = word_probability(w_dic,\n",
        "                                           vocab_frequency, \n",
        "                                           word_frequency)\n",
        "  \n",
        "  prob_class = class_probability(index, negative_size)\n",
        "\n",
        "  ln_p_class, ln_p_word_g_class = log_probabilities(prob_class,\n",
        "                                                    word_frequency,\n",
        "                                                    prob_word_given_class,\n",
        "                                                    w_dic)\n",
        "  return  ln_p_class, ln_p_word_g_class\n",
        "\n",
        "\n",
        "# Train the Naive Bayes Classifier:\n",
        "vocab_frequency, word_frequency = count(reviews,\n",
        "                                        train_set_i)\n",
        "\n",
        "ln_p_class, ln_p_word_g_class = training(train_set_i,\n",
        "                                             reviews,\n",
        "                                             negative_size, \n",
        "                                             vocab_frequency,\n",
        "                                             word_frequency)\n",
        "\n",
        "# Test the NB-Classifier\n",
        "test_set_i = [] # stores indexes of the test set\n",
        "for i in range(int(t_size/2),int(len(reviews)/2)): # indexes of the negative reviews\n",
        "  test_set_i.append(i)\n",
        "for i in range(len(reviews) - 100, len(reviews)): # indexes of the positive reviews\n",
        "  test_set_i.append(i)\n",
        "  \n",
        "def classify(ln_p_class, ln_p_word_g_class, test_set_i, reviews):\n",
        "  # ^c = argmax [ln(prob_class(c) + sum(prob_word_in_class)]\n",
        "  NB_classifier = []\n",
        "  for r in test_set_i:\n",
        "    n_or_p = [ln_p_class[0] , ln_p_class[1]]\n",
        "    for sentence in reviews[r][\"content\"]: \n",
        "      for word, pos_tag in sentence:\n",
        "        word = word.lower()\n",
        "        # checks if word was used in the negative class\n",
        "        if ln_p_word_g_class[word][0] < 0: \n",
        "          n_or_p[0] += ln_p_word_g_class[word][0]\n",
        "        # checks if word was used in the positive class\n",
        "        if ln_p_word_g_class[word][1] < 0: \n",
        "          n_or_p[1] += ln_p_word_g_class[word][1]\n",
        "    if (n_or_p[0] >= n_or_p[1]):\n",
        "      NB_classifier.append([0,r]) # classified as negative \n",
        "    else: \n",
        "      NB_classifier.append([1,r]) # classified as positive\n",
        "  return NB_classifier\n",
        "\n",
        "\n",
        "def evaluate_NB_classifier(NB_classifier, test_set_i, reviews):\n",
        "  NB_results = [] # 1 -> correctly evaluated, 0 -> falsely evaluated\n",
        "  review_sentiment = []\n",
        "  for i in range(len(test_set_i)):\n",
        "  #for i in test_set_i:\n",
        "    r = NB_classifier[i][1] # r stores the index of the review \n",
        "    review_sentiment.append(reviews[r][\"sentiment\"])\n",
        "    if (reviews[r][\"sentiment\"] == \"NEG\" and NB_classifier[i][0] == 0):\n",
        "      NB_results.append(1)\n",
        "    elif (reviews[r][\"sentiment\"] == \"POS\" and NB_classifier[i][0] == 1):\n",
        "      NB_results.append(1)\n",
        "    else:\n",
        "      NB_results.append(0)\n",
        "  return NB_results\n",
        "\n",
        "#Test the Naive Bayes Classifier:\n",
        "NB_classifier = classify(ln_p_class,\n",
        "                         ln_p_word_g_class,\n",
        "                         test_set_i,\n",
        "                         reviews)\n",
        "#print(NB_classifier)\n",
        "results_without_smoothing = evaluate_NB_classifier(NB_classifier, \n",
        "                                                   test_set_i, \n",
        "                                                   reviews)\n",
        "#print(results_without_smoothing)\n",
        "NB_normal = sum(results_without_smoothing)/len(results_without_smoothing)\n",
        "print(\"accuracy: \", sum(results_without_smoothing)/len(results_without_smoothing))"
      ],
      "execution_count": 12,
      "outputs": [
        {
          "output_type": "stream",
          "text": [
            "accuracy:  0.495\n"
          ],
          "name": "stdout"
        }
      ]
    },
    {
      "metadata": {
        "id": "Xdup4O5z-s33",
        "colab_type": "text"
      },
      "cell_type": "markdown",
      "source": [
        "As can be seen, Naive Bayse without smoothing is about as bad as a random classifier! Part of it is due to how it handles unseen words - it ignores them. This problem becomes very evident in the following seciton where we deal with a unballanced dataset."
      ]
    },
    {
      "metadata": {
        "id": "0INK-PBoM6CB",
        "colab_type": "text"
      },
      "cell_type": "markdown",
      "source": [
        "#### (Bonus Questions) Would you consider accuracy to also be a good way to evaluate your classifier in a situation where 90% of your data instances are of positive movie reviews? (1pt)\n",
        "\n",
        "You can simulate this scenario by keeping the positive reviews\n",
        "data unchanged, but only using negative reviews cv000–cv089 for\n",
        "training, and cv900–cv909 for testing. Calculate the classification\n",
        "accuracy, and explain what changed."
      ]
    },
    {
      "metadata": {
        "colab_type": "code",
        "outputId": "85d5e1ce-fd6f-40a0-e51d-7df226477039",
        "id": "MngeLAoD_cEP",
        "colab": {
          "base_uri": "https://localhost:8080/",
          "height": 69
        }
      },
      "cell_type": "code",
      "source": [
        "negative_size = 90\n",
        "negative_training_start = 0\n",
        "negative_training_end = negative_size\n",
        "prositive_training_start = int(len(reviews)/2)\n",
        "positive_training_end = len(reviews) - 100\n",
        "\n",
        "train_set_i = [] # stores indexes of the training set\n",
        "# indexes of the negative reviews\n",
        "for i in range(negative_training_start , negative_training_end): \n",
        "  train_set_i.append(i)\n",
        "# indexes of the positive reviews\n",
        "for i in range(prositive_training_start, positive_training_end): \n",
        "  train_set_i.append(i)\n",
        "\n",
        "negative_test_start = negative_training_end\n",
        "negative_test_end = int(negative_training_end +.1*negative_size)\n",
        "positive_test_start = positive_training_end\n",
        "positive_test_end = len(reviews)\n",
        "\n",
        "test_set_i = [] # stores indexes of the training set\n",
        "# indexes of the negative reviews\n",
        "for i in range(negative_test_start, negative_test_end): \n",
        "  test_set_i.append(i)\n",
        "  \n",
        "# indexes of the positive reviews\n",
        "for i in range(positive_test_start, positive_test_end): \n",
        "  test_set_i.append(i)\n",
        "  \n",
        "# Train the Naive Bayes Classifier:  \n",
        "vocab_frequency, word_frequency = count(reviews,\n",
        "                                        train_set_i)\n",
        "\n",
        "ln_p_class, ln_p_word_g_class = training(train_set_i,\n",
        "                                             reviews,\n",
        "                                             negative_size, \n",
        "                                             vocab_frequency,\n",
        "                                             word_frequency)\n",
        "\n",
        "print(\" Positive bias:\", np.exp(ln_p_class[1]), \n",
        "      \"\\n Negative bias:\", np.exp(ln_p_class[0]))\n",
        "\n",
        "# Test the Naive Bayes Classifier:\n",
        "NB_classifier = classify(ln_p_class,\n",
        "                         ln_p_word_g_class,\n",
        "                         test_set_i,\n",
        "                         reviews)\n",
        "\n",
        "results_uneven = evaluate_NB_classifier(NB_classifier, \n",
        "                                        test_set_i, \n",
        "                                        reviews)\n",
        "print(\"acuracy: \", sum(results_uneven)/len(results_uneven))"
      ],
      "execution_count": 13,
      "outputs": [
        {
          "output_type": "stream",
          "text": [
            " Positive bias: 0.9090909090909091 \n",
            " Negative bias: 0.0909090909090909\n",
            "acuracy:  0.08256880733944955\n"
          ],
          "name": "stdout"
        }
      ]
    },
    {
      "metadata": {
        "id": "FRrfacAnKTvV",
        "colab_type": "text"
      },
      "cell_type": "markdown",
      "source": [
        "**(Bonus Question)** Discussion of the results: \\\\\n",
        "The Naive Bayes classifier does about as good as randomly classifying reviews as *positive* or *negative*. Which means that this approach is about as bad as tossing a coin. The classification is done by:\n",
        "\n",
        "$$\\hat{c} = \\operatorname*{arg\\,max}_{c \\in C} \\Big\\{\\log P(c) + \\sum^n_{i=1} \\log P(f_i|c)\\Big\\}$$\n",
        "\n",
        "For Q3.1 the reviews are balanced, which means that $P(c = negative ) = P(c = positive) = 0.5 $ . The classification is done purelly on the words in each review. However, most words are nouns, conectives and verbs without a particular conotation indepented of cotext. A large part of this sum $\\sum^n_{i=1} \\log P(f_i|c) $ consists of words that are not relevant for the sentiment classification. \\\\\n",
        "\n",
        "For the Bonus Question, 90% of our training data and 90% of our test data consists of positive reviews. A classifier that classifies all test data as positive would perform 90% accurate already! For the Naive Bayes Classifier $P(c = positive ) = 9P(c = negative) = 0.9 $, we would expect the classifier has a quite large bias towards positive reviews. Yet, its performance is lower than 9%. \\\\\n",
        "\n",
        "That is due to how to the sum part of the formula: $\\sum^n_{i=1} \\log P(f_i|c) $ and to a detail of the implementation. We are suming the logs of numbers between zero and 1. We are then summing negative numbers. However when a word wasn't seen in a class, it just ignores it. Which means that we are summing $0 > log(0<x<1)$. As the classifier was trained with much more positive words than negative words, during the classification it has to ignore a lot of unseen negative words. From our results, this happens in such a scale that is enough to overcome the large positive bias.\n",
        "\n"
      ]
    },
    {
      "metadata": {
        "id": "6wJzcHX3WUDm",
        "colab_type": "text"
      },
      "cell_type": "markdown",
      "source": [
        "## Smoothing\n",
        "\n",
        "The presence of words in the test dataset that\n",
        "haven’t been seen during training can cause probabilities in the Naive\n",
        "Bayes classifier to be $0$, thus making that particular test instance\n",
        "undecidable. The standard way to mitigate this effect (as well as to\n",
        "give more clout to rare words) is to use smoothing, in which the\n",
        "probability fraction\n",
        "$$\\frac{\\text{count}(w_i, c)}{\\sum\\limits_{w\\in V} \\text{count}(w, c)}$$ for a word\n",
        "$w_i$ becomes\n",
        "$$\\frac{\\text{count}(w_i, c) + \\text{smoothing}(w_i)}{\\sum\\limits_{w\\in V} \\text{count}(w, c) + \\sum\\limits_{w \\in V} \\text{smoothing}(w)}$$\n",
        "\n",
        "\n",
        "\n"
      ]
    },
    {
      "metadata": {
        "id": "PBNIcbwUWphC",
        "colab_type": "text"
      },
      "cell_type": "markdown",
      "source": [
        "#### (Q3.2) Implement Laplace feature smoothing (1pt)\n",
        "($smoothing(\\cdot) = \\kappa$, constant for all words) in your Naive\n",
        "Bayes classifier’s code, and report the impact on performance. \n",
        "Use $\\kappa = 1$."
      ]
    },
    {
      "metadata": {
        "id": "g03yflCc9kpW",
        "colab_type": "code",
        "outputId": "77815d66-779c-4a10-a141-3c36772b2d17",
        "colab": {
          "base_uri": "https://localhost:8080/",
          "height": 34
        }
      },
      "cell_type": "code",
      "source": [
        "kappa=1\n",
        "\n",
        "def smoothing(vocab_frequency,word_frequency):\n",
        "  for word in word_frequency:\n",
        "    for i in range(len(word_frequency[word])):\n",
        "      word_frequency[word][i] += kappa\n",
        "\n",
        "  for i in range(len(vocab_frequency)):\n",
        "    vocab_frequency[i] += len(word_frequency)*kappa\n",
        "  return vocab_frequency,word_frequency \n",
        "\n",
        "#making the train indices\n",
        "t_size = int(.9*len(reviews)) #training size\n",
        "negative_size = int(t_size/2)\n",
        "train_set_i = [] # stores indexes of the training set\n",
        "for i in range(0, negative_size): # indexes of the negative reviews\n",
        "  train_set_i.append(i)\n",
        "for i in range(int(len(reviews)/2), len(reviews) - 100): # indexes of the positive reviews\n",
        "  train_set_i.append(i)\n",
        "  \n",
        "#making the test indices\n",
        "test_set_i = [] # stores indexes of the test set\n",
        "for i in range(int(t_size/2),int(len(reviews)/2)): # indexes of the negative reviews\n",
        "  test_set_i.append(i)\n",
        "for i in range(len(reviews) - 100, len(reviews)): # indexes of the positive reviews\n",
        "  test_set_i.append(i)\n",
        "\n",
        "#adding smoothing\n",
        "vocab_frequency, word_frequency = count(reviews,\n",
        "                                        train_set_i)\n",
        "\n",
        "vocab_frequency,word_frequency= smoothing(vocab_frequency,word_frequency)\n",
        "\n",
        "#training with the smoothed frequencies\n",
        "ln_p_class, ln_p_word_g_class = training(train_set_i, \n",
        "                                         reviews,\n",
        "                                         negative_size, \n",
        "                                         vocab_frequency, \n",
        "                                         word_frequency)\n",
        "\n",
        "#classifying \n",
        "NB_classifier = classify(ln_p_class,\n",
        "                         ln_p_word_g_class,\n",
        "                         test_set_i,\n",
        "                         reviews)\n",
        "\n",
        "#evaluating\n",
        "results_with_smoothing = evaluate_NB_classifier(NB_classifier, \n",
        "                                                   test_set_i, \n",
        "                                                   reviews)\n",
        "print(\"acuracy: \", sum(results_with_smoothing)/len(results_with_smoothing))\n"
      ],
      "execution_count": 14,
      "outputs": [
        {
          "output_type": "stream",
          "text": [
            "acuracy:  0.825\n"
          ],
          "name": "stdout"
        }
      ]
    },
    {
      "metadata": {
        "id": "gZ3k4QgxJwyL",
        "colab_type": "text"
      },
      "cell_type": "markdown",
      "source": [
        "We can see a very large step improvement by just using a simple smoothing technique. This shows once again how much the unseen words were affecting the results of our classifier before. Smoothing is successful in remedying this situation."
      ]
    },
    {
      "metadata": {
        "id": "-conSBddWWyN",
        "colab_type": "text"
      },
      "cell_type": "markdown",
      "source": [
        "#### (Q3.3) Is the difference between non smoothed (Q3.1) and smoothed (Q3.2) statistically significant? (0.5pt)"
      ]
    },
    {
      "metadata": {
        "id": "CCvSNGlHMUPz",
        "colab_type": "code",
        "outputId": "eb54a9df-4e4e-4c13-cb0b-64435f081561",
        "colab": {
          "base_uri": "https://localhost:8080/",
          "height": 51
        }
      },
      "cell_type": "code",
      "source": [
        "p_value = sign_test(results_without_smoothing, results_with_smoothing)\n",
        "print(\"p_value =\", p_value)"
      ],
      "execution_count": 15,
      "outputs": [
        {
          "output_type": "stream",
          "text": [
            "the difference is significant\n",
            "p_value = 0.000003547178174130642586494974890\n"
          ],
          "name": "stdout"
        }
      ]
    },
    {
      "metadata": {
        "id": "ZiGcgwba87D5",
        "colab_type": "text"
      },
      "cell_type": "markdown",
      "source": [
        "## Cross-validation\n",
        "\n",
        "A serious danger in using Machine Learning on small datasets, with many\n",
        "iterations of slightly different versions of the algorithms, is that we\n",
        "end up with Type III errors, also called the “testing hypotheses\n",
        "suggested by the data” errors. This type of error occurs when we make\n",
        "repeated improvements to our classifiers by playing with features and\n",
        "their processing, but we don’t get a fresh, never-before seen test\n",
        "dataset every time. Thus, we risk developing a classifier that’s better\n",
        "and better on our data, but worse and worse at generalizing to new,\n",
        "never-before seen data.\n",
        "\n",
        "A simple method to guard against Type III errors is to use\n",
        "cross-validation. In N-fold cross-validation, we divide the data into N\n",
        "distinct chunks / folds. Then, we repeat the experiment N times, each\n",
        "time holding out one of the chunks for testing, training our classifier\n",
        "on the remaining N - 1 data chunks, and reporting performance on the\n",
        "held-out chunk. We can use different strategies for dividing the data:\n",
        "\n",
        "-   Consecutive splitting:\n",
        "  - cv000–cv099 = Split 1\n",
        "  - cv100–cv199 = Split 2\n",
        "  - etc.\n",
        "  \n",
        "-   Round-robin splitting (mod 10):\n",
        "  - cv000, cv010, cv020, … = Split 1\n",
        "  - cv001, cv011, cv021, … = Split 2\n",
        "  - etc.\n",
        "\n",
        "-   Random sampling/splitting\n",
        "  - Not used here (but you may choose to split this way in a non-educational situation)\n",
        "\n",
        "#### (Q3.4) Write the code to implement 10-fold cross-validation using round-robin splitting for your Naive Bayes classifier from Q3.2 and compute the 10 accuracies. Report the final performance, which is the average of the performances per fold. If all splits perform equally well, this is a good sign. (1pt)\n",
        "\n",
        "\n",
        "\n",
        "\n"
      ]
    },
    {
      "metadata": {
        "id": "3KeCGPa7Nuzx",
        "colab_type": "code",
        "outputId": "b005caf4-86b2-4879-ed35-45c21dac50f5",
        "colab": {
          "base_uri": "https://localhost:8080/",
          "height": 223
        }
      },
      "cell_type": "code",
      "source": [
        "\n",
        "def round_robin_split(reviews, mod = 10): \n",
        "  ''' return a matrix with wich line the indexes of the reviews for this split.\n",
        "  '''\n",
        "  splits = []\n",
        "  for s in range(mod):\n",
        "    splits.append([])\n",
        "    for i in range(s, len(reviews), mod):\n",
        "      splits[s].append(i)\n",
        "  return splits\n",
        "\n",
        "def nr_negative (reviews, splits): \n",
        "  ''' return a vector with the number of negative reviews per split.\n",
        "    by using round_robin_split 10 we get 100 negative reviews per split.\n",
        "  '''\n",
        "  negative_size = []\n",
        "  for split in range(len(splits)): \n",
        "    negative_size.append([])\n",
        "    negative_size[split] = 0\n",
        "    for review_i in splits[split]:\n",
        "      if reviews[review_i]['sentiment'] == 'NEG': \n",
        "        negative_size[split] += 1\n",
        "  return negative_size\n",
        "\n",
        "\n",
        "\n",
        "def train_test_sets(splits, m, negative_sizes): \n",
        "  ''' creates the test set and the training set.\n",
        "  returns:\n",
        "    train_set_i    indexes of the training set\n",
        "    test_set_i     indexes of the test set\n",
        "    negative_size  number of negative revies in the training set\n",
        "  '''\n",
        "  train_set_i = []\n",
        "  negative_size = 0\n",
        "  for i in range(mod):\n",
        "    if i == m :\n",
        "      test_set_i = splits[i]\n",
        "    else:\n",
        "      train_set_i += splits[i]\n",
        "      negative_size +=  negative_sizes[i]\n",
        "  return train_set_i, test_set_i, negative_size\n",
        "\n",
        "mod = 10\n",
        "splits = round_robin_split(reviews, mod = 10)\n",
        "negative_sizes = nr_negative (reviews, splits)\n",
        "\n",
        "# Train the Naive Bayes Classifier:  \n",
        "results_split = []\n",
        "for m in range(mod): \n",
        "  \n",
        "  \n",
        "  train_set_i, test_set_i, negative_size = train_test_sets(splits, \n",
        "                                                           m, \n",
        "                                                           negative_sizes)\n",
        "  # Train the Naive Bayes Classifier:\n",
        "  vocab_frequency, word_frequency = count(reviews,\n",
        "                                          train_set_i) \n",
        "    \n",
        "  smooth_switch = True\n",
        "  if smooth_switch:\n",
        "    vocab_frequency, word_frequency = smoothing(vocab_frequency,\n",
        "                                                word_frequency)\n",
        "\n",
        "  ln_p_class, ln_p_word_g_class = training(train_set_i,\n",
        "                                           reviews,\n",
        "                                           negative_size, \n",
        "                                           vocab_frequency,\n",
        "                                           word_frequency)\n",
        "  # Test the Naive Bayes Classifier:\n",
        "  NB_classifier = classify(ln_p_class,\n",
        "                           ln_p_word_g_class,\n",
        "                           test_set_i,\n",
        "                           reviews)\n",
        "\n",
        "  results_split.append(evaluate_NB_classifier(NB_classifier, \n",
        "                                          test_set_i, \n",
        "                                          reviews))\n",
        "  print(m,\") acuracy: \", sum(results_split[m])/len(results_split[m]))\n",
        "\n",
        "  \n",
        "def report_fold_performance(results_split, print_performance = False):\n",
        "  fold_performance = [sum(results_split[m])/len(results_split[m]) for m in range(len(results_split))]\n",
        "\n",
        "  mean_performance = np.mean(fold_performance)\n",
        "  var_performance = np.var(fold_performance)\n",
        "\n",
        "  if print_performance:\n",
        "    print(\"Mean performance: \", mean_performance, \n",
        "          \"\\n Variance:\", var_performance)\n",
        "    \n",
        "  return mean_performance, var_performance\n",
        "_ = report_fold_performance(results_split, print_performance = True)\n"
      ],
      "execution_count": 16,
      "outputs": [
        {
          "output_type": "stream",
          "text": [
            "0 ) acuracy:  0.79\n",
            "1 ) acuracy:  0.835\n",
            "2 ) acuracy:  0.81\n",
            "3 ) acuracy:  0.83\n",
            "4 ) acuracy:  0.775\n",
            "5 ) acuracy:  0.845\n",
            "6 ) acuracy:  0.83\n",
            "7 ) acuracy:  0.785\n",
            "8 ) acuracy:  0.825\n",
            "9 ) acuracy:  0.845\n",
            "Mean performance:  0.817 \n",
            " Variance: 0.0005859999999999986\n"
          ],
          "name": "stdout"
        }
      ]
    },
    {
      "metadata": {
        "id": "otdlsDXBNyOa",
        "colab_type": "text"
      },
      "cell_type": "markdown",
      "source": [
        "#### (Q3.5) Write code to calculate and report variance, in addition to the final performance. (1pt)\n",
        "\n",
        "**Please report all future results using 10-fold cross-validation now\n",
        "(unless told to use the held-out test set).**"
      ]
    },
    {
      "metadata": {
        "id": "ZoBQm1KuNzNR",
        "colab_type": "code",
        "outputId": "7663932a-2a09-4b6d-a9b0-6bb30cb3dafb",
        "colab": {
          "base_uri": "https://localhost:8080/",
          "height": 51
        }
      },
      "cell_type": "code",
      "source": [
        "smoothed_NB = report_fold_performance(results_split, print_performance = True)"
      ],
      "execution_count": 17,
      "outputs": [
        {
          "output_type": "stream",
          "text": [
            "Mean performance:  0.817 \n",
            " Variance: 0.0005859999999999986\n"
          ],
          "name": "stdout"
        }
      ]
    },
    {
      "metadata": {
        "id": "s6A2zX9_BRKm",
        "colab_type": "text"
      },
      "cell_type": "markdown",
      "source": [
        "## Features, overfitting, and the curse of dimensionality\n",
        "\n",
        "In the Bag-of-Words model, ideally we would like each distinct word in\n",
        "the text to be mapped to its own dimension in the output vector\n",
        "representation. However, real world text is messy, and we need to decide\n",
        "on what we consider to be a word. For example, is “`word`\" different\n",
        "from “`Word`\", from “`word`”, or from “`words`\"? Too strict a\n",
        "definition, and the number of features explodes, while our algorithm\n",
        "fails to learn anything generalisable. Too lax, and we risk destroying\n",
        "our learning signal. In the following section, you will learn about\n",
        "confronting the feature sparsity and the overfitting problems as they\n",
        "occur in NLP classification tasks."
      ]
    },
    {
      "metadata": {
        "id": "EKK8FNt8VtcZ",
        "colab_type": "text"
      },
      "cell_type": "markdown",
      "source": [
        "#### (Q3.6): A touch of linguistics (1pt)\n",
        "\n",
        "Taking a step further, you can use stemming to\n",
        "hash different inflections of a word to the same feature in the BoW\n",
        "vector space. How does the performance of your classifier change when\n",
        "you use stemming on your training and test datasets? Please use the [Porter stemming\n",
        "    algorithm](http://www.nltk.org/howto/stem.html) from NLTK.\n",
        " Also, you should do cross validation and concatenate the predictions from all folds to compute the significance."
      ]
    },
    {
      "metadata": {
        "id": "NxtCul1IrBi_",
        "colab_type": "code",
        "outputId": "3a28242b-11d2-4e72-a961-f1d234ec8d59",
        "colab": {
          "base_uri": "https://localhost:8080/",
          "height": 241
        }
      },
      "cell_type": "code",
      "source": [
        "from nltk.stem.porter import *\n",
        "stemmer = PorterStemmer()\n",
        "  \n",
        "def stem_reviews(stemmed_reviews):\n",
        "  for r in  range(len(stemmed_reviews)):\n",
        "    stemmed_sentences = []\n",
        "    for sentence in stemmed_reviews[r][\"content\"]:\n",
        "      stemmed_sentence = []\n",
        "      for word, pos_tag in sentence:\n",
        "        word = word.lower()\n",
        "        word = stemmer.stem(word)\n",
        "        stemmed_sentence.append([word, pos_tag])\n",
        "      stemmed_sentences.append(stemmed_sentence)\n",
        "    stemmed_reviews[r][\"content\"] = stemmed_sentences\n",
        "  return stemmed_reviews\n",
        "\n",
        "def init_dict_with_stemming(reviews):\n",
        "  w_dict = {} \n",
        "  for r in range(len(reviews)):\n",
        "    # loops through all reviews and add the words to w_dict.\n",
        "    for sentence in reviews[r][\"content\"]: \n",
        "      for word, pos_tag in sentence:\n",
        "        word = word.lower()\n",
        "        word = stemmer.stem(word)\n",
        "        w_dict[str(word)] = [0, 0]  # [NEGATIVE, POSITIVE]\n",
        "  return w_dict\n",
        "\n",
        "\n",
        "#cross-validation\n",
        "mod=10\n",
        "results_with_stemming = []\n",
        "splits = round_robin_split(reviews, mod = 10)\n",
        "negative_sizes = nr_negative (reviews, splits)\n",
        "\n",
        "debug = True\n",
        "  \n",
        "with open(\"reviews.json\", mode=\"r\", encoding=\"utf-8\") as f:\n",
        "  stemmed_reviews = json.load(f)\n",
        "\n",
        "# Just stem the complete review once and use the standard functions created before!\n",
        "if debug:\n",
        "    print(\"stemming reviews in progress ...\")\n",
        "stemmed_reviews = stem_reviews(stemmed_reviews) \n",
        "\n",
        "\n",
        "for m in range(mod): \n",
        "  train_set_i, test_set_i, negative_size = train_test_sets(splits, \n",
        "                                                         m, \n",
        "                                                         negative_sizes)\n",
        "  # Train the Naive Bayes Classifier:\n",
        "  vocab_frequency, word_frequency = count(stemmed_reviews,\n",
        "                                          train_set_i) \n",
        "\n",
        "  smooth_switch = True\n",
        "  if smooth_switch:\n",
        "    vocab_frequency, word_frequency = smoothing(vocab_frequency,\n",
        "                                                word_frequency)\n",
        "\n",
        "  ln_p_class, ln_p_word_g_class = training(train_set_i,\n",
        "                                           stemmed_reviews,\n",
        "                                           negative_size, \n",
        "                                           vocab_frequency,\n",
        "                                           word_frequency)\n",
        "  # Test the Naive Bayes Classifier:\n",
        "  NB_classifier = classify(ln_p_class,\n",
        "                           ln_p_word_g_class,\n",
        "                           test_set_i,\n",
        "                           stemmed_reviews)\n",
        "\n",
        "  results_with_stemming.append(evaluate_NB_classifier(NB_classifier, \n",
        "                                                      test_set_i, \n",
        "                                                      stemmed_reviews))\n",
        "\n",
        "  print(m,\") acuracy: \", \n",
        "        sum(results_with_stemming[m])/len(results_with_stemming[m]))\n",
        "  \n",
        "\n",
        "stem_NB = report_fold_performance(results_with_stemming, print_performance = True)\n",
        "                                                   \n"
      ],
      "execution_count": 18,
      "outputs": [
        {
          "output_type": "stream",
          "text": [
            "stemming reviews in progress ...\n",
            "0 ) acuracy:  0.78\n",
            "1 ) acuracy:  0.84\n",
            "2 ) acuracy:  0.81\n",
            "3 ) acuracy:  0.85\n",
            "4 ) acuracy:  0.775\n",
            "5 ) acuracy:  0.835\n",
            "6 ) acuracy:  0.815\n",
            "7 ) acuracy:  0.775\n",
            "8 ) acuracy:  0.83\n",
            "9 ) acuracy:  0.84\n",
            "Mean performance:  0.8150000000000001 \n",
            " Variance: 0.0007549999999999986\n"
          ],
          "name": "stdout"
        }
      ]
    },
    {
      "metadata": {
        "id": "6SrJ1BeLXTnk",
        "colab_type": "text"
      },
      "cell_type": "markdown",
      "source": [
        "#### (Q3.7): Is the difference between NB with smoothing and NB with smoothing+stemming significant? (0.5pt)\n"
      ]
    },
    {
      "metadata": {
        "id": "gYqKBOiIrInT",
        "colab_type": "code",
        "outputId": "e66bf9f8-9296-4d6d-ddfa-8ff9419360ce",
        "colab": {
          "base_uri": "https://localhost:8080/",
          "height": 51
        }
      },
      "cell_type": "code",
      "source": [
        "#append all folds in one single vector.\n",
        "all_split_results = []\n",
        "all_stem_results = []\n",
        "for m in range(len(results_split)):\n",
        "  all_split_results += results_split[m]\n",
        "  all_stem_results += results_with_stemming[m]\n",
        "  \n",
        "p_value = sign_test(all_split_results, all_stem_results)\n",
        "\n",
        "print(\"p_value =\", p_value)"
      ],
      "execution_count": 19,
      "outputs": [
        {
          "output_type": "stream",
          "text": [
            "the difference is not significant\n",
            "p_value = 0.9465186089423488346539016590\n"
          ],
          "name": "stdout"
        }
      ]
    },
    {
      "metadata": {
        "id": "p8zEMJRsKeln",
        "colab_type": "text"
      },
      "cell_type": "markdown",
      "source": [
        "The results show that adding stemming does not improve the results significantly. One possible reason coul be because the stemmer is not always correct in finding words with similiar stems, and count words with different meanings and maybe even different sentiments as one word. However we supose this would only play a marginal role. \n",
        "However, in both cases a large number of words in the review carry no relenvant meaning for the sentment analisys. Stemming them does not filter them out and our Naive Bayes Classifier is as confused as before when classifing some reviews."
      ]
    },
    {
      "metadata": {
        "id": "JkDHVq_1XUVP",
        "colab_type": "text"
      },
      "cell_type": "markdown",
      "source": [
        "#### Q3.8: What happens to the number of features (i.e., the size of the vocabulary) when using stemming as opposed to (Q3.2)? (0.5pt)\n",
        "Give actual numbers. You can use the held-out training set to determine these."
      ]
    },
    {
      "metadata": {
        "id": "MA3vee5-rJyy",
        "colab_type": "code",
        "outputId": "560d731c-b091-47f1-980c-2bb4beb375b0",
        "colab": {
          "base_uri": "https://localhost:8080/",
          "height": 69
        }
      },
      "cell_type": "code",
      "source": [
        "review=[]\n",
        "for i in range(0,900):\n",
        "  review.append(reviews[i])\n",
        "for i in range(1000,1900):\n",
        "  review.append(reviews[i])\n",
        "print('Stemming in progress.')\n",
        "vocab_with_stemming = init_dict_with_stemming(review)\n",
        "vocab_without_stemming = init_dict(review)\n",
        "print(\"Size of The Vocabulary Before Stemming:   \",len(vocab_without_stemming))\n",
        "print(\"Size of The Vocabulary After Stemming:   \",len(vocab_with_stemming))\n",
        "\n"
      ],
      "execution_count": 20,
      "outputs": [
        {
          "output_type": "stream",
          "text": [
            "Stemming in progress.\n",
            "Size of The Vocabulary Before Stemming:    45348\n",
            "Size of The Vocabulary After Stemming:    32404\n"
          ],
          "name": "stdout"
        }
      ]
    },
    {
      "metadata": {
        "id": "GItdrDOBQzsZ",
        "colab_type": "text"
      },
      "cell_type": "markdown",
      "source": [
        "It can be seen that stemming has successfuly reduced the number of features by 28%. Which could be interesting when analising larger datasets."
      ]
    },
    {
      "metadata": {
        "id": "SoazfxbNV5Lq",
        "colab_type": "text"
      },
      "cell_type": "markdown",
      "source": [
        "#### Q3.9: Putting some word order back in (0.5+0.5pt=1pt)\n",
        "\n",
        "A simple way of retaining some of the word\n",
        "order information when using bag-of-words representations is to add **n-grams** features. \n",
        "Retrain your classifier from (Q3.4) using **unigrams+bigrams** and\n",
        "**unigrams+bigrams+trigrams** as features, and report accuracy and statistical significances (in comparison to the experiment at (Q3.4) for all 10 folds, and between the new systems).\n",
        "\n",
        "\n",
        "\n"
      ]
    },
    {
      "metadata": {
        "id": "aY3T0JEZWSUN",
        "colab_type": "text"
      },
      "cell_type": "markdown",
      "source": [
        "**DESIGN CHOICE:**\n",
        "When going through the reviews, we count the ending character of each sentence and the begining of the next sentence as a n-gram. Thus we are considering our sentences to be related in a review."
      ]
    },
    {
      "metadata": {
        "id": "eYuKMTOpq9jz",
        "colab_type": "code",
        "colab": {}
      },
      "cell_type": "code",
      "source": [
        "##necessary functions\n",
        "\n",
        "def init_dict_ngram(reviews):\n",
        "  #makes a dictionary of unigrams, a dictionary of bigrams and a dictionary of trigrams\n",
        "  w_dict = {} #count the number of times each word appears in each class \n",
        "  bigram_dict={}\n",
        "  trigram_dict={}\n",
        "  for r in range(len(reviews)):\n",
        "    word = ['', '', '']             # word = [word, prev word, prev prev word]\n",
        "    count = 0\n",
        "    p = count\n",
        "    for sentence in reviews[r][\"content\"]: \n",
        "      for word[p], pos_tag in sentence:\n",
        "        word[p] = word[p].lower()\n",
        "        w_dict[word[p]] = [0, 0]          # [NEGATIVE class, POSITIVE class]\n",
        "        bigram = str(word[p-1] + word[p]) # prev_word + word\n",
        "        bigram_dict[bigram] = [0, 0]      # [NEGATIVE class, POSITIVE class]\n",
        "        trigram = str(word[p-2] + bigram) # prev_prev_word + prev_word + word\n",
        "        trigram_dict[trigram] = [0, 0]    # [NEGATIVE class, POSITIVE class]\n",
        "        count += 1\n",
        "        p = count%3\n",
        "  return w_dict, bigram_dict, trigram_dict\n",
        "\n",
        "\n",
        "def count_ngram(reviews, index):\n",
        "  #takes a set of reviews, makes ngrams, and counts unigrams and ngrams. \n",
        "  #'ngram'_frequency: dictionary with the count of each word\n",
        "  #'ngram'V_frequency: stores the total times all the 'ngrams' were used in each class\n",
        "  \n",
        "  word_frequency, bigram_frequency ,trigram_frequency = init_dict_ngram(reviews)\n",
        "  review_class = 0\n",
        "  #counting loop, storing in each 'ngram'_frequency\n",
        "  for r in index:\n",
        "    count=0\n",
        "    if (reviews[r][\"sentiment\"] == 'NEG'):\n",
        "      review_class = 0\n",
        "    else:\n",
        "      review_class = 1\n",
        "    for sentence in reviews[r][\"content\"]:\n",
        "      for word, pos_tag in sentence:\n",
        "        word = word.lower()\n",
        "        word_frequency[word][review_class] += 1\n",
        "        if count >=2:\n",
        "          Ngram=str(prev_word+word)\n",
        "          bigram_frequency[Ngram][review_class] += 1\n",
        "          Ngram=str(prev_prev_word+prev_word+word)\n",
        "          trigram_frequency[Ngram][review_class] += 1\n",
        "          prev_prev_word=prev_word\n",
        "        elif count == 1:\n",
        "          Ngram=str(prev_word+word)\n",
        "          bigram_frequency[Ngram][review_class] += 1\n",
        "          prev_prev_word=prev_word\n",
        "        count +=1\n",
        "        prev_word=word      \n",
        "  \n",
        "  #summing the counts, making 'ngram'V_frequencies\n",
        "  vocab_frequency = [0, 0] #vocab frequency:stores the total times all the words used in each class\n",
        "  biV_frequency=[0,0]      #bigram vocab frequency\n",
        "  triV_frequency=[0,0]     #trigram vocab frequency\n",
        "  for word in word_frequency: \n",
        "    vocab_frequency[0] += word_frequency[word][0] #negative class\n",
        "    vocab_frequency[1] += word_frequency[word][1] #positive class\n",
        "  for ngram in bigram_frequency:\n",
        "    biV_frequency[0] += bigram_frequency[ngram][0] #negative class\n",
        "    biV_frequency[1] += bigram_frequency[ngram][1] #positive class\n",
        "  for ngram in trigram_frequency:\n",
        "    triV_frequency[0] += trigram_frequency[ngram][0] #negative class\n",
        "    triV_frequency[1] += trigram_frequency[ngram][1] #positive class\n",
        "      \n",
        "  return vocab_frequency, word_frequency,biV_frequency,bigram_frequency, triV_frequency,trigram_frequency\n",
        "\n",
        "\n",
        "def training_ngram(w_dic,index, reviews, negative_size, vocab_frequency, word_frequency):\n",
        "  # trains the NB_classifier\n",
        "  prob_word_given_class = word_probability(w_dic,\n",
        "                                           vocab_frequency, \n",
        "                                           word_frequency)\n",
        "  \n",
        "  prob_class = class_probability(index, negative_size)\n",
        "\n",
        "  ln_p_class, ln_p_word_g_class = log_probabilities(prob_class,\n",
        "                                                    word_frequency,\n",
        "                                                    prob_word_given_class,\n",
        "                                                    w_dic)\n",
        "  return  ln_p_class, ln_p_word_g_class\n",
        "\n",
        "def classify_ngram(num_ngram,ln_p_class, ln_p_word_g_class,ln_p_bigram_g_class,ln_p_trigram_g_class, test_set_i, reviews):\n",
        "  # ^c = argmax [ln(prob_class(c) + sum(prob_word_in_class)]\n",
        "  \n",
        "  #switches, deciding what degree of ngrams is being considered\n",
        "  if num_ngram == 0:\n",
        "    bigram_switch = False\n",
        "    trigram_switch = False\n",
        "  if num_ngram == 1:\n",
        "    bigram_switch = True\n",
        "    trigram_switch = False\n",
        "  if num_ngram == 2:\n",
        "    bigram_switch = True\n",
        "    trigram_switch = True\n",
        "  \n",
        "  #looping over the test reviews, counting over each dictionary and calculating the overall probabilities\n",
        "  NB_classifier = []\n",
        "  for r in test_set_i:\n",
        "    count=0\n",
        "    n_or_p = [ln_p_class[0] , ln_p_class[1]]\n",
        "    for sentence in reviews[r][\"content\"]: \n",
        "      for word, pos_tag in sentence:\n",
        "        word = word.lower()\n",
        "        #checks if word is in the negative class\n",
        "        if ln_p_word_g_class[word][0] < 0: \n",
        "          n_or_p[0] += ln_p_word_g_class[word][0]\n",
        "        #checks if word was used in the positive class\n",
        "        if ln_p_word_g_class[word][1] < 0: \n",
        "          n_or_p[1] += ln_p_word_g_class[word][1]\n",
        "        \n",
        "        if bigram_switch:\n",
        "          if count>=1:\n",
        "            Ngram=str(prev_word_b+word)\n",
        "            #checks if bigram is in the negative class\n",
        "            if ln_p_bigram_g_class[Ngram][0] < .5: \n",
        "               n_or_p[0] += ln_p_bigram_g_class[Ngram][0]\n",
        "            #checks if bigram was used in the positive class\n",
        "            if ln_p_bigram_g_class[Ngram][1] < .5: \n",
        "               n_or_p[1] += ln_p_bigram_g_class[Ngram][1]\n",
        "            #update\n",
        "            prev_word_b=word\n",
        "          else:\n",
        "            prev_word_b=word\n",
        "           \n",
        "        if trigram_switch:\n",
        "          if count>=2:\n",
        "            Ngram=str(prev_prev_word+prev_word+word)\n",
        "            #checks if trigram is in the negative class\n",
        "            if ln_p_trigram_g_class[Ngram][0] < .5: \n",
        "               n_or_p[0] += ln_p_trigram_g_class[Ngram][0]\n",
        "            #checks if trigram was used in the positive class\n",
        "            if ln_p_trigram_g_class[Ngram][1] < .5: \n",
        "               n_or_p[1] += ln_p_trigram_g_class[Ngram][1]\n",
        "            #update\n",
        "            prev_prev_word=prev_word\n",
        "            prev_word=word\n",
        "          if count==0:\n",
        "            prev_word=word\n",
        "          if count==1:\n",
        "            prev_prev_word=prev_word\n",
        "            prev_word=word\n",
        "        count +=1  \n",
        "       \n",
        "    if (n_or_p[0] >= n_or_p[1]):\n",
        "      NB_classifier.append([0,r]) # classified as negative\n",
        "    else: \n",
        "      NB_classifier.append([1,r]) # classified as positive\n",
        "  return NB_classifier\n",
        "\n",
        " \n",
        "def cross_validation_ngram(num_ngram):\n",
        "  #cross validation\n",
        "  mod=10\n",
        "  results_ngram = []\n",
        "  splits = round_robin_split(reviews, mod = 10)\n",
        "  negative_sizes = nr_negative (reviews, splits)\n",
        "\n",
        "  for m in range(mod):\n",
        "    #Training\n",
        "    train_set_i, test_set_i, negative_size = train_test_sets(splits,\n",
        "                                                             m,\n",
        "                                                             negative_sizes)\n",
        "\n",
        "    vocab_frequency, word_frequency, biV_frequency, bigram_frequency, triV_frequency, trigram_frequency = count_ngram(reviews, train_set_i)\n",
        "\n",
        "    smooth_switch = True\n",
        "    if smooth_switch:\n",
        "      vocab_frequency, word_frequency = smoothing(vocab_frequency,\n",
        "                                                  word_frequency)\n",
        "      biV_frequency, bigram_frequency = smoothing(biV_frequency,\n",
        "                                                  bigram_frequency)\n",
        "      triV_frequency, trigram_frequency = smoothing(triV_frequency,\n",
        "                                                  trigram_frequency)\n",
        "\n",
        "    w_dict, bigram_dict, trigram_dict = init_dict_ngram(reviews)\n",
        "    \n",
        "    #calculating log probabilities \n",
        "    if num_ngram == 0 or num_ngram == 1 or num_ngram == 2:    #for single words\n",
        "      ln_p_class, ln_p_word_g_class = training_ngram(w_dict,train_set_i,\n",
        "                                                     reviews,\n",
        "                                                     negative_size, \n",
        "                                                     vocab_frequency,\n",
        "                                                     word_frequency)\n",
        "    if num_ngram == 1 or num_ngram == 2:           #for a sequence of two words\n",
        "      ln_p_class, ln_p_bigram_g_class = training_ngram(bigram_dict,train_set_i,\n",
        "                                                     reviews,\n",
        "                                                     negative_size, \n",
        "                                                     biV_frequency,\n",
        "                                                     bigram_frequency)\n",
        "    if num_ngram == 2:        #for a sequence of 3 words\n",
        "      ln_p_class, ln_p_trigram_g_class = training_ngram(trigram_dict,train_set_i,\n",
        "                                                     reviews,\n",
        "                                                     negative_size, \n",
        "                                                     triV_frequency,\n",
        "                                                     trigram_frequency)\n",
        "    \n",
        "    if num_ngram !=2:      #to avoid referencing them in the NB_classifier function without initialization\n",
        "      ln_p_trigram_g_class=[]\n",
        "    if num_ngram==0:\n",
        "      ln_p_bigram_g_class=[]\n",
        "      \n",
        "    #Test Classifier:\n",
        "    NB_classifier = classify_ngram(num_ngram,ln_p_class,\n",
        "                             ln_p_word_g_class,\n",
        "                             ln_p_bigram_g_class,\n",
        "                             ln_p_trigram_g_class,\n",
        "                             test_set_i,\n",
        "                             reviews)\n",
        "    #print(NB_classifier)\n",
        "    results_ngram.append(evaluate_NB_classifier(NB_classifier, \n",
        "                                                       test_set_i, \n",
        "                                                       reviews))\n",
        "\n",
        "    print(m,\") acuracy: \", \n",
        "          sum(results_ngram[m])/len(results_ngram[m]))\n",
        "    \n",
        "  return results_ngram,w_dict, bigram_dict, trigram_dict\n",
        "  \n",
        "  "
      ],
      "execution_count": 0,
      "outputs": []
    },
    {
      "metadata": {
        "id": "y0zvASLGobmk",
        "colab_type": "code",
        "outputId": "454df079-99a9-4a17-9da0-b5125b0a20e6",
        "colab": {
          "base_uri": "https://localhost:8080/",
          "height": 464
        }
      },
      "cell_type": "code",
      "source": [
        "##calculating the results\n",
        "\n",
        "print(\"Using bigrams + unigrams:\")\n",
        "results_bigram,w_dict, bigram_dict, trigram_dict = cross_validation_ngram(1)\n",
        "bigrams_NB = report_fold_performance(results_bigram, print_performance = True)\n",
        "\n",
        "print(\"Using trigrams + bigrams + unigrams:\")\n",
        "results_trigram,w_dict, bigram_dict, trigram_dict = cross_validation_ngram(2)\n",
        "trigrams_NB = report_fold_performance(results_trigram, print_performance = True)\n",
        "\n",
        "#add mean and variance for each one\n",
        "#print what which one is doing"
      ],
      "execution_count": 22,
      "outputs": [
        {
          "output_type": "stream",
          "text": [
            "Using bigrams + unigrams:\n",
            "0 ) acuracy:  0.795\n",
            "1 ) acuracy:  0.87\n",
            "2 ) acuracy:  0.835\n",
            "3 ) acuracy:  0.88\n",
            "4 ) acuracy:  0.805\n",
            "5 ) acuracy:  0.865\n",
            "6 ) acuracy:  0.835\n",
            "7 ) acuracy:  0.83\n",
            "8 ) acuracy:  0.855\n",
            "9 ) acuracy:  0.84\n",
            "Mean performance:  0.841 \n",
            " Variance: 0.0006739999999999994\n",
            "Using trigrams + bigrams + unigrams:\n",
            "0 ) acuracy:  0.795\n",
            "1 ) acuracy:  0.89\n",
            "2 ) acuracy:  0.855\n",
            "3 ) acuracy:  0.865\n",
            "4 ) acuracy:  0.795\n",
            "5 ) acuracy:  0.89\n",
            "6 ) acuracy:  0.835\n",
            "7 ) acuracy:  0.835\n",
            "8 ) acuracy:  0.875\n",
            "9 ) acuracy:  0.845\n",
            "Mean performance:  0.8480000000000001 \n",
            " Variance: 0.0010559999999999996\n"
          ],
          "name": "stdout"
        }
      ]
    },
    {
      "metadata": {
        "id": "SJeCG9gY464B",
        "colab_type": "code",
        "outputId": "1ad0c077-803a-479f-ab98-f903628961e3",
        "colab": {
          "base_uri": "https://localhost:8080/",
          "height": 223
        }
      },
      "cell_type": "code",
      "source": [
        "##calculating p-values\n",
        "\n",
        "#append all folds in one single vector.\n",
        "all_split_results = []\n",
        "all_bigram_results = []\n",
        "all_trigram_results = []\n",
        "for m in range(len(results_split)):\n",
        "  all_split_results += results_split[m]\n",
        "  all_bigram_results += results_bigram[m]\n",
        "  all_trigram_results += results_trigram[m]\n",
        "\n",
        "print(\"NB using only unigrams and NB using unigrams+bigrams:\")\n",
        "p_value_bigram_split = sign_test(all_split_results, all_bigram_results)\n",
        "print(\"p_value =\", p_value_bigram_split)\n",
        "print(\"\")\n",
        "\n",
        "print(\"NB using only unigrams and NB using unigrams+bigrams + trigrams:\")\n",
        "p_value_trigram_split = sign_test(all_split_results, all_trigram_results)\n",
        "print(\"p_value =\", p_value_trigram_split)\n",
        "print(\"\")\n",
        "\n",
        "print(\"NB using unigrams+bigrams and NB using unigrams+bigrams + trigrams:\")\n",
        "p_value_trigram_bigram_split = sign_test(all_bigram_results, all_trigram_results)\n",
        "print(\"p_value =\", p_value_trigram_bigram_split)\n",
        "print(\"\")"
      ],
      "execution_count": 23,
      "outputs": [
        {
          "output_type": "stream",
          "text": [
            "NB using only unigrams and NB using unigrams+bigrams:\n",
            "the difference is not significant\n",
            "p_value = 0.2932785698870256137209886960\n",
            "\n",
            "NB using only unigrams and NB using unigrams+bigrams + trigrams:\n",
            "the difference is not significant\n",
            "p_value = 0.1725517183477154341914779742\n",
            "\n",
            "NB using unigrams+bigrams and NB using unigrams+bigrams + trigrams:\n",
            "the difference is not significant\n",
            "p_value = 0.7712977979137471160722421800\n",
            "\n"
          ],
          "name": "stdout"
        }
      ]
    },
    {
      "metadata": {
        "id": "dVrGGArkrWoL",
        "colab_type": "text"
      },
      "cell_type": "markdown",
      "source": [
        "\n",
        "#### Q3.10: How many features does the BoW model have to take into account now? (0.5pt)\n",
        "How does this number compare (e.g., linear, square, cubed, exponential) to the number of features at (Q3.8)? \n",
        "\n",
        "Use the held-out training set once again for this.\n"
      ]
    },
    {
      "metadata": {
        "id": "_z8sAJeUrdtM",
        "colab_type": "code",
        "outputId": "6e5b70c9-35ba-4456-8003-dd6590188bc5",
        "colab": {
          "base_uri": "https://localhost:8080/",
          "height": 86
        }
      },
      "cell_type": "code",
      "source": [
        "review=[]\n",
        "for i in range(0,900):\n",
        "  review.append(reviews[i])\n",
        "for i in range(1000,1900):\n",
        "  review.append(reviews[i])\n",
        "\n",
        "vocab_with_stemming = init_dict_with_stemming(review)\n",
        "vocab_without_stemming=init_dict(review)\n",
        "#w_dict, bigram_dict, trigram_dict=init_dict_ngram(review)\n",
        "size_trigram=len(w_dict)+len(bigram_dict)+len(trigram_dict)\n",
        "size_bigram=len(w_dict)+len(bigram_dict)\n",
        "print(\"Size of The Vocabulary Before Stemming:   \",len(vocab_without_stemming))\n",
        "print(\"Size of The Vocabulary After Stemming:   \",len(vocab_with_stemming))\n",
        "print(\"Size of the Vocabulary For unigrams + bigrams:\", size_bigram)\n",
        "print(\"Size of the Vocabulary For unigrams + bigrams + trigrams:\", size_trigram)\n"
      ],
      "execution_count": 24,
      "outputs": [
        {
          "output_type": "stream",
          "text": [
            "Size of The Vocabulary Before Stemming:    45348\n",
            "Size of The Vocabulary After Stemming:    32404\n",
            "Size of the Vocabulary For unigrams + bigrams: 508308\n",
            "Size of the Vocabulary For unigrams + bigrams + trigrams: 1549499\n"
          ],
          "name": "stdout"
        }
      ]
    },
    {
      "metadata": {
        "id": "BwogZAyk28QD",
        "colab_type": "text"
      },
      "cell_type": "markdown",
      "source": [
        "The size of vocabuary after adding bigrams is approximateley 15 times the size of vocabulary for just unigrams. Also, the size of vocabulary after adding trigrams is in the order of three times the size of vocabulary before adding them (just unigrams and bigrams).\n",
        "\n",
        "\n",
        "> \n",
        "It should be mentioned that if we had a close to infinite corpus, where there are all word combinations. Then, if we consider the number of unigrams to be N, the size of the vocabulary would increase by $N^2$ if we add bigrams, and again, if we add the trigrams, $N^3$. But here, since the size of our review set is small, we cannot see the full effect of adding n-grams on the length of vocabulary. In short we were expecting an exponential relationship between vocabulary size and n-grams. In practice we seem experienced some sort of polinomial increase due to some word combinations never happening in the corpus."
      ]
    },
    {
      "metadata": {
        "id": "CHWKDL3YV6vh",
        "colab_type": "text"
      },
      "cell_type": "markdown",
      "source": [
        "# Support Vector Machines (4pts)\n"
      ]
    },
    {
      "metadata": {
        "id": "hJSYhcVaoJGt",
        "colab_type": "text"
      },
      "cell_type": "markdown",
      "source": [
        "Though simple to understand, implement, and debug, one\n",
        "major problem with the Naive Bayes classifier is that its performance\n",
        "deteriorates (becomes skewed) when it is being used with features which\n",
        "are not independent (i.e., are correlated). Another popular classifier\n",
        "that doesn’t scale as well to big data, and is not as simple to debug as\n",
        "Naive Bayes, but that doesn’t assume feature independence is the Support\n",
        "Vector Machine (SVM) classifier.\n",
        "\n",
        "You can find more details about SVMs in Chapter 7 of Bishop: Pattern Recognition and Machine Learning.\n",
        "Other sources for learning SVM:\n",
        "* http://web.mit.edu/zoya/www/SVM.pdf\n",
        "* http://www.cs.columbia.edu/~kathy/cs4701/documents/jason_svm_tutorial.pdf\n",
        "* https://pythonprogramming.net/support-vector-machine-intro-machine-learning-tutorial/\n",
        "\n",
        "\n",
        "\n",
        "\n",
        "\n",
        "\n",
        "\n",
        "Use the scikit-learn implementation of \n",
        "[SVM.](http://scikit-learn.org/stable/modules/svm.html) with the default parameters.\n",
        "\n"
      ]
    },
    {
      "metadata": {
        "id": "0LnzNtQBV8gr",
        "colab_type": "text"
      },
      "cell_type": "markdown",
      "source": [
        "#### (Q4.1): Train SVM and compare to Naive Bayes (2pt)\n",
        "\n",
        "Train an SVM classifier (sklearn.svm.LinearSVC) using your features. Compare the\n",
        "classification performance of the SVM classifier to that of the Naive\n",
        "Bayes classifier from (Q3.4) and report the numbers.\n",
        "Do cross validation and concatenate the predictions from all folds to compute the significance.  Are the results significantly better?\n",
        "\n"
      ]
    },
    {
      "metadata": {
        "id": "JBscui8Mvoz0",
        "colab_type": "code",
        "outputId": "3f7ad6fa-3e18-4e38-87d0-c3eed9ca6259",
        "colab": {
          "base_uri": "https://localhost:8080/",
          "height": 241
        }
      },
      "cell_type": "code",
      "source": [
        "from sklearn import svm\n",
        "from sklearn.feature_extraction import DictVectorizer\n",
        "from sklearn.preprocessing import MultiLabelBinarizer\n",
        "from sklearn.feature_extraction.text import CountVectorizer\n",
        "\n",
        "def super_bag_of_words(reviews, train_set_i):\n",
        "  w_dict = {}      \n",
        "  bigram_dict={}\n",
        "  trigram_dict={}\n",
        "  for r in train_set_i:\n",
        "    word = ['', '', '']             # word = [word, prev word, prev prev word]\n",
        "    count = 0\n",
        "    p = count\n",
        "    for sentence in reviews[r][\"content\"]: \n",
        "      for word[p], pos_tag in sentence:\n",
        "        word[p] = word[p].lower()\n",
        "        w_dict[word[p]] = 0               # [NEGATIVE class, POSITIVE class]\n",
        "        bigram = str(word[p-1] + word[p]) # prev_word + word\n",
        "        bigram_dict[word[p]] = 0\n",
        "        bigram_dict[bigram] = 0           # [NEGATIVE class, POSITIVE class]\n",
        "        trigram = str(word[p-2] + bigram) # prev_prev_word + prev_word + word\n",
        "        trigram_dict[word[p]] = 0\n",
        "        trigram_dict[bigram] = 0  \n",
        "        trigram_dict[trigram] = 0         # [NEGATIVE class, POSITIVE class]\n",
        "        count += 1\n",
        "        p = count%3\n",
        "  for n_dict in [w_dict, bigram_dict, trigram_dict]:\n",
        "    index = 0\n",
        "    for word in n_dict:\n",
        "      n_dict[word] = index\n",
        "      index += 1\n",
        "  return  w_dict, bigram_dict, trigram_dict\n",
        "\n",
        "def make_feature_vector(reviews, w_dict, n):\n",
        "  feature_vectors = np.zeros((len(reviews), len(w_dict))) \n",
        "  for r in range(len(reviews)):\n",
        "    word = [\"\",\"\",\"\"]\n",
        "    count = 0\n",
        "    p = count\n",
        "    for sentence in reviews[r][\"content\"]: \n",
        "      for word[p], pos_tag in sentence:\n",
        "        word[p] = word[p].lower()\n",
        "        tri_gram= str(word[p-2] + word[p-1] + word[p])\n",
        "        bi_gram = str(word[p-1] + word[p])\n",
        "        for w in [word[p], bi_gram, tri_gram]:\n",
        "          ungly_counter = 0\n",
        "          if w in w_dict:\n",
        "            ind = w_dict[w] \n",
        "            feature_vectors[r][ind] += 1\n",
        "            ungly_counter += 1\n",
        "            # that is necessary to make sure the word won't be added multiple \n",
        "            # times for bi-grams and unigrams.\n",
        "            if ungly_counter >= n:\n",
        "              break\n",
        "        count += 1\n",
        "        p = count%n\n",
        "  return feature_vectors\n",
        "\n",
        "def label_my_data(reviews):\n",
        "  label = np.zeros(len(reviews), dtype= int)\n",
        "  for r in range(len(reviews)):\n",
        "    if reviews[r]['sentiment'] == 'POS':\n",
        "      label[r] = 1\n",
        "  return label\n",
        "\n",
        "def evaluate_SVM_classifier(classifier, test_set_i, reviews):\n",
        "  results = np.zeros(len(test_set_i)) # 1 -> correctly evaluated, 0 -> falsely evaluated\n",
        "  c = 0\n",
        "  for i in test_set_i:\n",
        "    if (reviews[i][\"sentiment\"] == \"NEG\" and classifier[c] == 0) or (reviews[i][\"sentiment\"] == \"POS\" and classifier[c] == 1):\n",
        "      results[c] = 1\n",
        "    c += 1\n",
        "  return results\n",
        "\n",
        "\n",
        "def cross_validation_SVM(reviews, label, n):\n",
        "  # cross validation training of SVM\n",
        "  mod = 10\n",
        "  splits = round_robin_split(reviews, mod = 10)\n",
        "  negative_sizes = nr_negative (reviews, splits)\n",
        "  results_split_SVM = []\n",
        "\n",
        "  # fold training:\n",
        "  for m in range(mod):\n",
        "    \n",
        "\n",
        "    train_set_i, test_set_i, negative_size = train_test_sets(splits, \n",
        "                                                             m, \n",
        "                                                             negative_sizes)\n",
        "    \n",
        "\n",
        "    word_dict, bi_dict, tri_dict = super_bag_of_words(reviews, train_set_i)\n",
        "    all_dicts = [word_dict, bi_dict, tri_dict]\n",
        "    feature_vectors = make_feature_vector(reviews, all_dicts[n-1], n)\n",
        "    \n",
        "    fv = [] # feature vectors used in this fold\n",
        "    l = []  # labels for this fold\n",
        "    for i in train_set_i:\n",
        "      fv.append(feature_vectors[i])\n",
        "      l.append(label[i])\n",
        "\n",
        "    # The magical Suport Vector Machine trainer:\n",
        "    clf = svm.LinearSVC()\n",
        "    clf.fit(fv, l) \n",
        "    \n",
        "    t_fv = []\n",
        "    for i in test_set_i:\n",
        "      t_fv.append(feature_vectors[i])\n",
        "    \n",
        "    SVM_classification = clf.predict(t_fv)\n",
        "    \n",
        "    results_split_SVM.append(evaluate_SVM_classifier(SVM_classification, \n",
        "                                                    test_set_i, \n",
        "                                                    reviews))\n",
        "    \n",
        "    print(m,\") acuracy: \", sum(results_split_SVM[m])/len(results_split_SVM[m]))\n",
        "  return results_split_SVM\n",
        "\n",
        "label = label_my_data(reviews)\n",
        "\n",
        "print(\"word features\")\n",
        "results_split_SVM = cross_validation_SVM(reviews, label, 1)\n",
        "SVM_word = report_fold_performance(results_split_SVM, print_performance = True)\n",
        "\n",
        "#For curiosity reasons:\n",
        "#print(\"\\n unigrams and bi-grams\")\n",
        "#results_split_SVM_bigrams = cross_validation_SVM(reviews, label, 2)\n",
        "#_ = report_fold_performance(results_split_SVM_bigrams, print_performance = True)\n",
        "\n",
        "#print(\"\\n unigrams, bigrams and trigrams\")\n",
        "#results_split_SVM_trigrams = cross_validation_SVM(reviews, label, 3)\n",
        "#_ = report_fold_performance(results_split_SVM_trigrams, print_performance = True)\n"
      ],
      "execution_count": 25,
      "outputs": [
        {
          "output_type": "stream",
          "text": [
            "word features\n",
            "0 ) acuracy:  0.81\n",
            "1 ) acuracy:  0.795\n",
            "2 ) acuracy:  0.8\n",
            "3 ) acuracy:  0.84\n",
            "4 ) acuracy:  0.85\n",
            "5 ) acuracy:  0.815\n",
            "6 ) acuracy:  0.845\n",
            "7 ) acuracy:  0.85\n",
            "8 ) acuracy:  0.875\n",
            "9 ) acuracy:  0.84\n",
            "Mean performance:  0.8320000000000001 \n",
            " Variance: 0.0005959999999999991\n"
          ],
          "name": "stdout"
        }
      ]
    },
    {
      "metadata": {
        "id": "XlIJnFOYzC8a",
        "colab_type": "code",
        "outputId": "5b2130ae-2055-4162-81ae-1793dfeec0ff",
        "colab": {
          "base_uri": "https://localhost:8080/",
          "height": 69
        }
      },
      "cell_type": "code",
      "source": [
        "##calculating p-values\n",
        "\n",
        "#append all folds in one single vector.\n",
        "all_results_split_SVM = np.array([])\n",
        "all_results_split = []\n",
        "for m in range(len(results_split)):\n",
        "  all_results_split_SVM = np.concatenate((all_results_split_SVM, results_split_SVM[m]))\n",
        "  all_results_split += results_split[m]\n",
        "\n",
        "p_value = sign_test(all_results_split_SVM, all_results_split)\n",
        "print(\"Comparison SVM and NB for word features:\")\n",
        "print(\"p_value =\", p_value)\n"
      ],
      "execution_count": 26,
      "outputs": [
        {
          "output_type": "stream",
          "text": [
            "the difference is not significant\n",
            "Comparison SVM and NB for word features:\n",
            "p_value = 0.5166977962573607869966679093\n"
          ],
          "name": "stdout"
        }
      ]
    },
    {
      "metadata": {
        "id": "Ili4oIev2pTK",
        "colab_type": "text"
      },
      "cell_type": "markdown",
      "source": [
        "\n",
        "We would like to point out that we are comparing the Naive Bayes classifier using word features with the SVM also using word features. The importance fair comparison was stressed by one of the teacher assistents in Piazza. For our disapointment, the difference between NB and SVM is not relevant."
      ]
    },
    {
      "metadata": {
        "id": "ifXVWcK0V9qY",
        "colab_type": "text"
      },
      "cell_type": "markdown",
      "source": [
        "### More linguistics\n",
        "\n",
        "Now add in part-of-speech features. You will find the\n",
        "movie review dataset has already been POS-tagged for you. Try to\n",
        "replicate what Pang et al. were doing:\n",
        "\n"
      ]
    },
    {
      "metadata": {
        "id": "xA3I82o4oWGu",
        "colab_type": "text"
      },
      "cell_type": "markdown",
      "source": [
        "####(Q4.2) Replace your features with word+POS features, and report performance with the SVM. Does this help? Do cross validation and concatenate the predictions from all folds to compute the significance. Are the results significant? Why?  (1pt)\n"
      ]
    },
    {
      "metadata": {
        "id": "DALZQlafZMrS",
        "colab_type": "text"
      },
      "cell_type": "markdown",
      "source": [
        "**DESIGN CHOICE:** We are using tuples (word, POS) as  inputs to the vocabulary."
      ]
    },
    {
      "metadata": {
        "id": "NOvjYe-t2Br6",
        "colab_type": "code",
        "outputId": "de835a85-b9c7-4dff-d448-eee63212a064",
        "colab": {
          "base_uri": "https://localhost:8080/",
          "height": 223
        }
      },
      "cell_type": "code",
      "source": [
        "def super_bag_of_words_POS(reviews, train_set_i):\n",
        "  '''Creates a bag of words for all the words in the training set.\n",
        "  Inputs:\n",
        "    reviews: the reviews in the format given in the exercise\n",
        "    train_set_i: vector of indexes of the reviews of the trainin set\n",
        "  Return:\n",
        "    dictionary of the format {(word,POS tag) : index}\n",
        "    example {(dog, verb): 1243554, (dog, noun): 33333}\n",
        "  '''\n",
        "  w_dict = {} \n",
        "  for r in train_set_i:\n",
        "    for sentence in reviews[r][\"content\"]: \n",
        "      for word, pos_tag in sentence:\n",
        "        word = word.lower()\n",
        "        w_dict[(word,pos_tag)] = 0 \n",
        "  index = 0\n",
        "  for (word,pos_tag) in w_dict:\n",
        "    w_dict[(word,pos_tag)] = index\n",
        "    index += 1\n",
        "  return w_dict\n",
        "           \n",
        "def make_feature_vector_POS(reviews, word_dict):\n",
        "  feature_vectors = [] \n",
        "  for r in range(len(reviews)):\n",
        "    review_vector = [0]*len(word_dict)\n",
        "    for sentence in reviews[r][\"content\"]: \n",
        "      for word, pos_tag in sentence:\n",
        "        word = word.lower()\n",
        "        if (word,pos_tag) in word_dict:\n",
        "          ind = word_dict[(word,pos_tag)] \n",
        "          review_vector[ind] += 1\n",
        "    feature_vectors.append(review_vector)\n",
        "  return feature_vectors   \n",
        "           \n",
        "def cross_validation_SVM_POS(reviews, label):\n",
        "  # cross validation training of SVM\n",
        "  mod = 10\n",
        "  splits = round_robin_split(reviews, mod = 10)\n",
        "  negative_sizes = nr_negative (reviews, splits)\n",
        "  results_split_SVM = []\n",
        "\n",
        "  # fold training:\n",
        "  for m in range(mod):\n",
        "\n",
        "    train_set_i, test_set_i, negative_size = train_test_sets(splits, \n",
        "                                                             m, \n",
        "                                                             negative_sizes)\n",
        "    \n",
        "    word_dict = super_bag_of_words_POS(reviews, train_set_i)\n",
        "    \n",
        "    feature_vectors = make_feature_vector_POS(reviews, word_dict)\n",
        "    \n",
        "    \n",
        "    fv = [] # feature vectors used in this fold\n",
        "    l = []  # labels for this fold\n",
        "    for i in train_set_i:\n",
        "      fv.append(feature_vectors[i])\n",
        "      l.append(label[i])\n",
        "\n",
        "    # The magical Suport Vector Machine trainer:\n",
        "    clf = svm.LinearSVC()\n",
        "    clf.fit(fv, l) \n",
        "    \n",
        "    t_fv = []\n",
        "    for i in test_set_i:\n",
        "      t_fv.append(feature_vectors[i])\n",
        "    \n",
        "    SVM_classification = clf.predict(t_fv)\n",
        "\n",
        "    results_split_SVM.append(evaluate_SVM_classifier(SVM_classification, \n",
        "                                                    test_set_i, \n",
        "                                                    reviews))\n",
        "\n",
        "    # 3- check accuracy and compute significance by use of the sign-test\n",
        "\n",
        "    print(m,\") acuracy: \", sum(results_split_SVM[m])/len(results_split_SVM[m]))\n",
        "  return results_split_SVM\n",
        "\n",
        "label = label_my_data(reviews)\n",
        "results_split_SVM_POS = cross_validation_SVM_POS(reviews, label)\n",
        "SVM_wp = report_fold_performance(results_split_SVM_POS, print_performance = True)\n"
      ],
      "execution_count": 27,
      "outputs": [
        {
          "output_type": "stream",
          "text": [
            "0 ) acuracy:  0.82\n",
            "1 ) acuracy:  0.795\n",
            "2 ) acuracy:  0.825\n",
            "3 ) acuracy:  0.84\n",
            "4 ) acuracy:  0.84\n",
            "5 ) acuracy:  0.845\n",
            "6 ) acuracy:  0.855\n",
            "7 ) acuracy:  0.855\n",
            "8 ) acuracy:  0.865\n",
            "9 ) acuracy:  0.84\n",
            "Mean performance:  0.8380000000000001 \n",
            " Variance: 0.0003709999999999997\n"
          ],
          "name": "stdout"
        }
      ]
    },
    {
      "metadata": {
        "id": "ekwla4qwl_Il",
        "colab_type": "code",
        "outputId": "bd63b5a9-510d-4989-e91e-ac6267c605be",
        "colab": {
          "base_uri": "https://localhost:8080/",
          "height": 51
        }
      },
      "cell_type": "code",
      "source": [
        "#append all folds in one single vector.\n",
        "all_results_split_SVM_POS = np.array([])\n",
        "for m in range(len(results_split)):\n",
        "  all_results_split_SVM_POS = np.concatenate((all_results_split_SVM_POS, \n",
        "                                              results_split_SVM_POS[m]))\n",
        "\n",
        "p_value = sign_test(all_results_split_SVM, all_results_split_SVM_POS)\n",
        "\n",
        "print(\"p_value =\", p_value)"
      ],
      "execution_count": 28,
      "outputs": [
        {
          "output_type": "stream",
          "text": [
            "the difference is not significant\n",
            "p_value = 0.8057148676803825624105038557\n"
          ],
          "name": "stdout"
        }
      ]
    },
    {
      "metadata": {
        "id": "Dcc0e3vvfJHe",
        "colab_type": "text"
      },
      "cell_type": "markdown",
      "source": [
        "We are comparing two SVMs, one using the word features and the second using the tuples word POS tags as features. However the difference in performance is not significant. Intuitively, that makes sense. The POS tags do not carry any information about the meaning of the word, only about the grammatical role of that word in that sentence. Therefore they do not help to extract the meaning or the sentiment of the word.\n"
      ]
    },
    {
      "metadata": {
        "id": "Su-3w87eMW0w",
        "colab_type": "text"
      },
      "cell_type": "markdown",
      "source": [
        "#### (Q4.3) Discard all closed-class words from your data (keep only nouns (N*), verbs (V*), adjectives (J*) and adverbs (RB*)), and report performance. Does this help? Do cross validation and concatenate the predictions from all folds to compute the significance. Are the results significantly better than when we don't discard the closed-class words? Why? (1pt)"
      ]
    },
    {
      "metadata": {
        "id": "CCUPlPozCYUX",
        "colab_type": "code",
        "outputId": "bdcc4e59-80ae-494c-b6d4-483313ba293f",
        "colab": {
          "base_uri": "https://localhost:8080/",
          "height": 223
        }
      },
      "cell_type": "code",
      "source": [
        "def bag_of_words_POS_without_clossed_class(reviews, train_set_i):\n",
        "  w_dict = {} #count the number of times each word appears in each class \n",
        "  for r in train_set_i:\n",
        "    # loops through all reviews and add the words to the dict.\n",
        "    for sentence in reviews[r][\"content\"]: \n",
        "      for word, pos_tag in sentence:\n",
        "        if pos_tag[0] in 'NVJ' or pos_tag[0:1]=='RB':\n",
        "          word = word.lower()\n",
        "          w_dict[(word, pos_tag)] = 0 \n",
        "  index = 0\n",
        "  for (word,pos_tag) in w_dict:\n",
        "    w_dict[(word, pos_tag)] = index\n",
        "    index += 1\n",
        "  return w_dict\n",
        "\n",
        "def make_feature_vector_POS_without_clossed_class(reviews,word_dict):\n",
        "  feature_vectors = [] # np.zeros([len(reviews),len(word_dict)])\n",
        "  for r in range(len(reviews)):\n",
        "    review_vector = [0]*len(word_dict)\n",
        "    for sentence in reviews[r][\"content\"]: \n",
        "      for word, pos_tag in sentence:\n",
        "        if pos_tag[0] in 'NVJ' or pos_tag[0:1]=='RB': \n",
        "          word = word.lower()\n",
        "          if (word,pos_tag) in word_dict:\n",
        "            ind = word_dict[(word,pos_tag)]\n",
        "            review_vector[ind] += 1\n",
        "    feature_vectors.append(review_vector)\n",
        "  return feature_vectors \n",
        "\n",
        "def cross_validation_SVM_POS_without_clossed_class(reviews, label):\n",
        "  # cross validation training of SVM\n",
        "  mod = 10\n",
        "  splits = round_robin_split(reviews, mod = 10)\n",
        "  negative_sizes = nr_negative (reviews, splits)\n",
        "  results_split_SVM = []\n",
        "\n",
        "  # fold training:\n",
        "  for m in range(mod):\n",
        "\n",
        "    train_set_i, test_set_i, negative_size = train_test_sets(splits, \n",
        "                                                             m, \n",
        "                                                             negative_sizes)\n",
        "    \n",
        "    word_dict = bag_of_words_POS_without_clossed_class(reviews, train_set_i)\n",
        "    \n",
        "    feature_vectors = make_feature_vector_POS_without_clossed_class(reviews, \n",
        "                                                                    word_dict)\n",
        "    \n",
        "    \n",
        "    fv = [] # feature vectors used in this fold\n",
        "    l = []  # labels for this fold\n",
        "    for i in train_set_i:\n",
        "      fv.append(feature_vectors[i])\n",
        "      l.append(label[i])\n",
        "\n",
        "    # The magical Suport Vector Machine trainer:\n",
        "    clf = svm.LinearSVC()\n",
        "    clf.fit(fv, l) \n",
        "    \n",
        "    t_fv = []\n",
        "    for i in test_set_i:\n",
        "      t_fv.append(feature_vectors[i])\n",
        "    \n",
        "    SVM_classification = clf.predict(t_fv)\n",
        "\n",
        "    results_split_SVM.append(evaluate_SVM_classifier(SVM_classification, \n",
        "                                                    test_set_i, \n",
        "                                                    reviews))\n",
        "\n",
        "    # 3- check accuracy and compute significance by use of the sign-test\n",
        "\n",
        "    print(m,\") acuracy: \", sum(results_split_SVM[m])/len(results_split_SVM[m]))\n",
        "  return results_split_SVM\n",
        "\n",
        "label = label_my_data(reviews)\n",
        "\n",
        "results_split_SVM_POS_without_clossed_class = cross_validation_SVM_POS_without_clossed_class(reviews, label)\n",
        "\n",
        "SVM_sw = report_fold_performance(results_split_SVM_POS_without_clossed_class, print_performance = True)\n"
      ],
      "execution_count": 29,
      "outputs": [
        {
          "output_type": "stream",
          "text": [
            "0 ) acuracy:  0.82\n",
            "1 ) acuracy:  0.84\n",
            "2 ) acuracy:  0.81\n",
            "3 ) acuracy:  0.82\n",
            "4 ) acuracy:  0.835\n",
            "5 ) acuracy:  0.86\n",
            "6 ) acuracy:  0.86\n",
            "7 ) acuracy:  0.86\n",
            "8 ) acuracy:  0.87\n",
            "9 ) acuracy:  0.79\n",
            "Mean performance:  0.8365 \n",
            " Variance: 0.0006202499999999995\n"
          ],
          "name": "stdout"
        }
      ]
    },
    {
      "metadata": {
        "id": "LwBAWRYtnHoy",
        "colab_type": "code",
        "outputId": "9419644c-c831-4834-b016-76f1a4ae033b",
        "colab": {
          "base_uri": "https://localhost:8080/",
          "height": 137
        }
      },
      "cell_type": "code",
      "source": [
        "##calculating p-values\n",
        "\n",
        "all_results_split_SVM_POS_without_clossed_class = np.array([])\n",
        "for m in range(len(results_split)):\n",
        "  all_results_split_SVM_POS_without_clossed_class = np.concatenate((all_results_split_SVM_POS_without_clossed_class, \n",
        "                                              results_split_SVM_POS_without_clossed_class[m]))\n",
        "\n",
        "print(\"comparison with and without close clas POS\")\n",
        "p_value = sign_test(all_results_split_SVM_POS_without_clossed_class, all_results_split_SVM_POS)\n",
        "print(\"p_value =\", p_value)\n",
        "\n",
        "print(\"\\ncomparison SVM words features and SVM words + POS\")\n",
        "p_value = sign_test(all_results_split_SVM_POS_without_clossed_class, all_results_split_SVM)\n",
        "\n",
        "print(\"p_value =\", p_value)"
      ],
      "execution_count": 30,
      "outputs": [
        {
          "output_type": "stream",
          "text": [
            "comparison with and without close clas POS\n",
            "the difference is not significant\n",
            "p_value = 0.9643397988982472569618317953\n",
            "\n",
            "comparison SVM words features and SVM words + POS\n",
            "the difference is not significant\n",
            "p_value = 0.8580684255496233805937014017\n"
          ],
          "name": "stdout"
        }
      ]
    },
    {
      "metadata": {
        "id": "OF1SFPNodyvC",
        "colab_type": "text"
      },
      "cell_type": "markdown",
      "source": [
        "As an attempt to lower the dimension of the feature vectors we discard all words that supposedly carry no relevant meaning for sentiment analysis. That can be seen as striping away dimensions in which the data cannot be linearly separated. That did not help either, which was against our intuition. For instance the words **the** and **a** should have similar distributions regardless of the review being positive or negative, by discarding those words we can reduce our hyperspace to only the relevant dimensions. \n",
        "\n",
        "To explain the lack of statistical significance against the SVM (Q4.1) with word features we go back to the argument that the POS tags do not carry any relevant meaning to the sentiment of the review. Therefore no relevant information is encoded.\n",
        "\n",
        "To explain the lack of statistical significance against the SVM (Q4.2) using *(word, POS tags)* features we can use the argument of if the data is not linearly separable in $n$ dimensions, it will certainly not be in only part of those dimensions.\n",
        "\n"
      ]
    },
    {
      "metadata": {
        "id": "nfwqOciAl2No",
        "colab_type": "text"
      },
      "cell_type": "markdown",
      "source": [
        "# (Q8) Discussion (max. 500 words). (5pts)\n",
        "\n",
        "> Based on your experiments, what are the effective features and techniques in sentiment analysis? What information do different features encode?\n",
        "Why is this important? What are the limitations of these features and techniques?\n",
        " \n"
      ]
    },
    {
      "metadata": {
        "id": "qT2HTmQCQcGO",
        "colab_type": "code",
        "colab": {
          "base_uri": "https://localhost:8080/",
          "height": 399
        },
        "outputId": "8d237a54-c664-4e1c-e0e9-75705ccefd98"
      },
      "cell_type": "code",
      "source": [
        "#Plots all the results together for a nice overview =)\n",
        "method = ('Simbolic', 'Naive \\nBayes' ,'smoothed \\nNB', 'NB + \\nstemming', \n",
        "          'NB \\nbigrams', 'NB \\ntrigrams', 'SVM \\nword \\nfeatures', \n",
        "          'SVM \\n(word, POS)', 'SVM \\nfiltered')\n",
        "\n",
        "y_pos = np.arange(len(method))\n",
        "\n",
        "performance = [token_accuracy, \n",
        "               NB_normal, \n",
        "               smoothed_NB[0],\n",
        "               stem_NB[0],\n",
        "               bigrams_NB[0],\n",
        "               trigrams_NB[0],\n",
        "               SVM_word[0],\n",
        "               SVM_wp[0],\n",
        "               SVM_sw[0]]\n",
        " \n",
        "plt.bar(y_pos, performance, align='center', alpha=0.5)\n",
        "plt.xticks(y_pos, method)\n",
        "plt.ylabel('Accuracy')\n",
        "plt.xlabel('Method')\n",
        "plt.title('Performance overview of different Sentiment Analysis')\n",
        " \n",
        "plt.show()\n"
      ],
      "execution_count": 31,
      "outputs": [
        {
          "output_type": "display_data",
          "data": {
            "image/png": "[encoded data removed]",
            "text/plain": [
              "<matplotlib.figure.Figure at 0x7f51c718a748>"
            ]
          },
          "metadata": {
            "tags": []
          }
        }
      ]
    },
    {
      "metadata": {
        "id": "ZYuse5WLmekZ",
        "colab_type": "text"
      },
      "cell_type": "markdown",
      "source": [
        "This practice was really interesting to experience how rather simple techniques can be quite effective in extracting the overall sentiment of a document. Even bye completely ignoring sentence structure and the relationship between words. \n",
        "\n",
        "1.   *Symbolic approach with sentiment lexicon*. The features aim to encode the sentiment carried by different words in proportion to their count in each review. Sentiment weighting can be included, however, we saw that the unweighted approach is about as effective. It reaches almost 70% accuracy, which is not ideal, but surprisingly good considering the simplicity of the technique. The biggest limitation is we are bounded by the sentiment lexicon. If it is imprecise or has too few words the sentiment extraction may lose a great deal of performance. It also cannot be scaled for other languages. The next two techniques go around this limitation.\n",
        "\n",
        "2.   *Naive Bayes Classifier*. It attempts to capture the sentiment from the choice of words in each review. The features don't take any pre-assigned sentiment to the words. The information encoded by the feature vectors is the likelihood of a word choice given a class. The first surprise was to see that the Naive Bayes classifier performs as bad as a coin toss if no smoothing is used.  \n",
        "\n",
        "      Smoothing takes its accuracy to 82%, which surprised us because the classifier simply ignores the interaction between words. Stemming was used as an attempt to lower the dimensions of the feature vectors. To take the word order in consideration n-grams were also used. None of them showed a significant difference in performance. We were expecting otherwise, as they attempt to capture aspects of the language that the Naive Bayes is ignorant of. \n",
        "      \n",
        "3.   *Support Vector Machines*. This classic machine learning algorithm performed significantly better than Naive Bayes, even though the improvement wasn't impressive considering the increase in algorithm complexity. The features are the word counts themselves. The information encoded by the feature vector is rather abstract. Each feature vector is a point in the vocabulary space and it is assumed it is possible to find a hyperplane that separates the positive reviews from the negative ones.\n",
        "\n",
        "     The features were modified to include the POS tags, however, no improvement was seen. That is expected because the POS tags do not carry any information about the meaning of the word, only about the grammatical role of that word in that sentence. An attempt to lower the dimension of the feature vectors was to discard all words that carry no relevant meaning. That can be seen as striping away dimensions in which the data cannot be linearly separated. That did not help either, which was against our intuition.\n",
        "\n",
        "All techniques and features used share one main limitation. They have no means to take into consideration the context and the relationship between words. They suppose the presence of a set of words is enough to draw relevant conclusions about the overall sentiment of the review. "
      ]
    },
    {
      "metadata": {
        "id": "iwaKwfWQhRk_",
        "colab_type": "text"
      },
      "cell_type": "markdown",
      "source": [
        "# Submission \n"
      ]
    },
    {
      "metadata": {
        "id": "aOUeaET5ijk-",
        "colab_type": "code",
        "colab": {}
      },
      "cell_type": "code",
      "source": [
        "# Write your names and student numbers here:\n",
        "# Victor Zuanazzi 12325724\n",
        "# Mahsa Mojtahedi 12166510"
      ],
      "execution_count": 0,
      "outputs": []
    },
    {
      "metadata": {
        "id": "3A9K-H6Tii3X",
        "colab_type": "text"
      },
      "cell_type": "markdown",
      "source": [
        "**That's it!**\n",
        "\n",
        "- Check if you answered all questions fully and correctly. \n",
        "- Download your completed notebook using `File -> Download .ipynb` \n",
        "- Also save your notebook as a Github Gist. Get it by choosing `File -> Save as Github Gist`.  Make sure that the gist has a secret link (not public).\n",
        "- Check if your answers are all included in the file you submit (e.g. check the Github Gist URL)\n",
        "- Submit your .ipynb file and link to the Github Gist via *Canvas*. One submission per group. "
      ]
    }
  ]
}